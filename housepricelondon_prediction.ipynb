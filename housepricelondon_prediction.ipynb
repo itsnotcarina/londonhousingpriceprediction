{
 "cells": [
  {
   "cell_type": "code",
   "execution_count": 78,
   "metadata": {},
   "outputs": [
    {
     "data": {
      "text/plain": [
       "1998"
      ]
     },
     "execution_count": 78,
     "metadata": {},
     "output_type": "execute_result"
    }
   ],
   "source": [
    "from wordcount import nb_word_count \n",
    "\n",
    "filename = \"MSIN0143_2020_GROUP_E2.ipynb\"\n",
    "nb_word_count(filename)"
   ]
  },
  {
   "cell_type": "markdown",
   "metadata": {},
   "source": [
    "# Report Structure:\n",
    "\n",
    "1. Introduction\n",
    "2. Data Preparation\n",
    "3. Exploratory and Descriptive Analysis\n",
    "4. Predictive Analysis\n",
    "5. Limitations\n",
    "6. Conclusion"
   ]
  },
  {
   "cell_type": "markdown",
   "metadata": {},
   "source": [
    "# 1. Introduction"
   ]
  },
  {
   "cell_type": "markdown",
   "metadata": {},
   "source": [
    "## Problem Statement\n",
    "\n",
    "London housing is famously known for its extremely high price tag. Besides it being the capital, thereby contributing to house price, we would like to know what other influencing factors exist. Currently, there is no such platform/dataset offering transparent details on housing and related factors.\n",
    "\n",
    "We aim to investigate how to gather insights from multiple datasets about the boroughs in London and how we can use predictive models to derive which factors are most important in influencing housing prices in London’s 33 boroughs.\n",
    "\n",
    "With this project, we support the government in helping first-time home buyers find their ideal house, by increasing their understanding of trends in different Boroughs.\n",
    "\n",
    " \n"
   ]
  },
  {
   "cell_type": "markdown",
   "metadata": {},
   "source": [
    "## Objective\n",
    "\n",
    "Using historical data on house prices in London, we want to build a large dataset including various attributes influencing value and build a customisable search engine.\n",
    "\n",
    "Based on our initial research, we have gathered a shortlist of variables that may contribute towards housing prices (Mason, 2017). We will then research the relevant dataset at Borough level to compile our dataset.\n",
    "\n",
    "Our goal is to create a model transparently predicting house prices in different boroughs, whilst controlling for certain area characteristics and time. Different factors that influence the price shall be taken into consideration and analysed with regards to their influence on price. \n"
   ]
  },
  {
   "cell_type": "code",
   "execution_count": 1,
   "metadata": {},
   "outputs": [
    {
     "ename": "ModuleNotFoundError",
     "evalue": "No module named 'linearmodels'",
     "output_type": "error",
     "traceback": [
      "\u001b[0;31m---------------------------------------------------------------------------\u001b[0m",
      "\u001b[0;31mModuleNotFoundError\u001b[0m                       Traceback (most recent call last)",
      "\u001b[0;32m<ipython-input-1-eb4abfac22d0>\u001b[0m in \u001b[0;36m<module>\u001b[0;34m\u001b[0m\n\u001b[1;32m     16\u001b[0m \u001b[0;32mfrom\u001b[0m \u001b[0msklearn\u001b[0m \u001b[0;32mimport\u001b[0m \u001b[0mlinear_model\u001b[0m\u001b[0;34m\u001b[0m\u001b[0;34m\u001b[0m\u001b[0m\n\u001b[1;32m     17\u001b[0m \u001b[0;32mimport\u001b[0m \u001b[0mstatsmodels\u001b[0m\u001b[0;34m.\u001b[0m\u001b[0mapi\u001b[0m \u001b[0;32mas\u001b[0m \u001b[0msm\u001b[0m\u001b[0;34m\u001b[0m\u001b[0;34m\u001b[0m\u001b[0m\n\u001b[0;32m---> 18\u001b[0;31m \u001b[0;32mfrom\u001b[0m \u001b[0mlinearmodels\u001b[0m \u001b[0;32mimport\u001b[0m \u001b[0mPanelOLS\u001b[0m\u001b[0;34m\u001b[0m\u001b[0;34m\u001b[0m\u001b[0m\n\u001b[0m\u001b[1;32m     19\u001b[0m \u001b[0;32mfrom\u001b[0m \u001b[0mlinearmodels\u001b[0m \u001b[0;32mimport\u001b[0m \u001b[0mPooledOLS\u001b[0m\u001b[0;34m\u001b[0m\u001b[0;34m\u001b[0m\u001b[0m\n\u001b[1;32m     20\u001b[0m \u001b[0;32mfrom\u001b[0m \u001b[0mlinearmodels\u001b[0m\u001b[0;34m.\u001b[0m\u001b[0mpanel\u001b[0m \u001b[0;32mimport\u001b[0m \u001b[0mcompare\u001b[0m\u001b[0;34m\u001b[0m\u001b[0;34m\u001b[0m\u001b[0m\n",
      "\u001b[0;31mModuleNotFoundError\u001b[0m: No module named 'linearmodels'"
     ]
    }
   ],
   "source": [
    "#Import necessary modules and codes\n",
    "from IPython.core.interactiveshell import InteractiveShell \n",
    "InteractiveShell.ast_node_interactivity = \"all\"\n",
    "\n",
    "import faculty.datasets as datasets\n",
    "import pandas as pd\n",
    "from pandas import DataFrame\n",
    "from functools import reduce\n",
    "import numpy as np\n",
    "from scipy.stats import skew\n",
    "import matplotlib.pyplot as plt\n",
    "import math \n",
    "import seaborn as sn\n",
    "from functools import reduce\n",
    "from scipy.stats import skew\n",
    "from sklearn import linear_model\n",
    "import statsmodels.api as sm\n",
    "from linearmodels import PanelOLS\n",
    "from linearmodels import PooledOLS\n",
    "from linearmodels.panel import compare\n",
    "from sklearn.preprocessing import LabelEncoder, StandardScaler\n",
    "from sklearn.model_selection import train_test_split, cross_val_score, GridSearchCV, StratifiedKFold\n",
    "import xgboost as xgb\n",
    "import lightgbm as lgb\n",
    "from sklearn.linear_model import LinearRegression,LogisticRegression, SGDRegressor, RidgeCV\n",
    "from sklearn.ensemble import RandomForestRegressor\n",
    "import sklearn.model_selection\n",
    "from sklearn import metrics\n",
    "from sklearn.metrics import r2_score, mean_absolute_error, mean_squared_error\n",
    "from sklearn import preprocessing"
   ]
  },
  {
   "cell_type": "markdown",
   "metadata": {},
   "source": [
    "# 2. Data Preparation\n",
    "\n",
    "This report will be based on 9 different datasets.\n",
    "\n",
    "\n",
    "<img src=\"./Variable Name.JPG\" width=\"100%\" align=\"centre\">\n",
    "\n",
    "\n",
    "Datasets 1 to 7 contain information on each of London's 33 boroughs for a variable of interest, across different time periods. Whereas datasets 8 and 9 contain information on a variable of interest at one single point in time.\n",
    "\n",
    "    \n",
    "Upon completion of prepping the 9 datasets, 3 seperate merges will carried out:\n",
    "\n",
    "1. Panel Data Merge - Datasets 1 to 7 will be merged on the Area Code and Year Column\n",
    "2. First Year Data Merge (2011) - Datasets 1 to 7 with 8 and 9 will be merged on the Area Code Column\n",
    "3. Last Year Data Merge (2017) - Datasets 1 to 7 with , 8 and 9 will be merged on the Area Code Column\n",
    "\n",
    "All 3 merged datasets will be used for Exploratory and Descriptive Analysis, and the merged panel dataset will be used for Predictive Analysis.\n"
   ]
  },
  {
   "cell_type": "markdown",
   "metadata": {},
   "source": [
    "## Data Prep"
   ]
  },
  {
   "cell_type": "markdown",
   "metadata": {},
   "source": [
    "## Dataset"
   ]
  },
  {
   "cell_type": "markdown",
   "metadata": {},
   "source": [
    "Source of main dataset (Housing in London):\n",
    "\n",
    "https://www.kaggle.com/justinas/housing-in-london?select=housing_in_london_yearly_variables.csv"
   ]
  },
  {
   "cell_type": "markdown",
   "metadata": {},
   "source": [
    "### House Prices\n",
    "- Source - **Kaggle** \n",
    "- Variable of Interest - **House Prices**"
   ]
  },
  {
   "cell_type": "code",
   "execution_count": 2,
   "metadata": {},
   "outputs": [],
   "source": [
    "# Importing the House Price Dataset\n",
    "house_price_df= pd.read_csv(\"01. Monthly House Price Data.csv\",usecols=[0,1,2,3])\n",
    "house_price_df=house_price_df.sort_values(by=[\"date\",\"code\"])\n",
    "house_price_df[\"date\"]=house_price_df[\"date\"].astype(str)\n",
    "\n",
    "# Filtering for relevant years (2011 to 2017)\n",
    "house_price_df=house_price_df[8644:12424]\n",
    "\n",
    "# Calculating the yearly average price\n",
    "house_price_df[\"year\"]=house_price_df[\"date\"].str[0:4]\n",
    "house_price_df=house_price_df.groupby([\"code\",\"area\",\"year\"]).mean()\n",
    "house_price_df[\"average_price\"]=house_price_df[\"average_price\"].astype(int)\n",
    "\n",
    "# Filtering for relevant area codes (London Borough Codes)\n",
    "house_price_df=house_price_df.sort_values(by=[\"code\",\"year\"])\n",
    "house_price_df=house_price_df[:231]\n",
    "\n",
    "# Renaming and coverting column types in preparation of merge\n",
    "house_price_df=house_price_df.reset_index(inplace=False)\n",
    "house_price_df = house_price_df.rename(columns={'area': 'Area','code': 'Code',\n",
    "                                                'year': \"Year\",'average_price': 'House Price'})\n",
    "house_price_df[\"Year\"]=house_price_df[\"Year\"].astype(int)"
   ]
  },
  {
   "cell_type": "code",
   "execution_count": 3,
   "metadata": {},
   "outputs": [
    {
     "data": {
      "text/html": [
       "<div>\n",
       "<style scoped>\n",
       "    .dataframe tbody tr th:only-of-type {\n",
       "        vertical-align: middle;\n",
       "    }\n",
       "\n",
       "    .dataframe tbody tr th {\n",
       "        vertical-align: top;\n",
       "    }\n",
       "\n",
       "    .dataframe thead th {\n",
       "        text-align: right;\n",
       "    }\n",
       "</style>\n",
       "<table border=\"1\" class=\"dataframe\">\n",
       "  <thead>\n",
       "    <tr style=\"text-align: right;\">\n",
       "      <th></th>\n",
       "      <th>Code</th>\n",
       "      <th>Area</th>\n",
       "      <th>Year</th>\n",
       "      <th>House Price</th>\n",
       "    </tr>\n",
       "  </thead>\n",
       "  <tbody>\n",
       "    <tr>\n",
       "      <th>0</th>\n",
       "      <td>E09000001</td>\n",
       "      <td>city of london</td>\n",
       "      <td>2011</td>\n",
       "      <td>463930</td>\n",
       "    </tr>\n",
       "    <tr>\n",
       "      <th>1</th>\n",
       "      <td>E09000001</td>\n",
       "      <td>city of london</td>\n",
       "      <td>2012</td>\n",
       "      <td>525327</td>\n",
       "    </tr>\n",
       "    <tr>\n",
       "      <th>2</th>\n",
       "      <td>E09000001</td>\n",
       "      <td>city of london</td>\n",
       "      <td>2013</td>\n",
       "      <td>570008</td>\n",
       "    </tr>\n",
       "    <tr>\n",
       "      <th>3</th>\n",
       "      <td>E09000001</td>\n",
       "      <td>city of london</td>\n",
       "      <td>2014</td>\n",
       "      <td>709385</td>\n",
       "    </tr>\n",
       "    <tr>\n",
       "      <th>4</th>\n",
       "      <td>E09000001</td>\n",
       "      <td>city of london</td>\n",
       "      <td>2015</td>\n",
       "      <td>760253</td>\n",
       "    </tr>\n",
       "  </tbody>\n",
       "</table>\n",
       "</div>"
      ],
      "text/plain": [
       "        Code            Area  Year  House Price\n",
       "0  E09000001  city of london  2011       463930\n",
       "1  E09000001  city of london  2012       525327\n",
       "2  E09000001  city of london  2013       570008\n",
       "3  E09000001  city of london  2014       709385\n",
       "4  E09000001  city of london  2015       760253"
      ]
     },
     "execution_count": 3,
     "metadata": {},
     "output_type": "execute_result"
    }
   ],
   "source": [
    "# Checking first 5 rows of dataset\n",
    "house_price_df.head()"
   ]
  },
  {
   "cell_type": "markdown",
   "metadata": {},
   "source": [
    "### Crime\n",
    "- Source - **Metropolitan Police** \n",
    "- Variable of Interest - **Recorded Offences**"
   ]
  },
  {
   "cell_type": "code",
   "execution_count": 4,
   "metadata": {},
   "outputs": [],
   "source": [
    "# Importing the Crime dataset\n",
    "crime_df = pd.read_excel('01 New Crime data .xlsx',\n",
    "                            usecols=[0,1,2,3,4,5,6,7,8,9,10,11,12,13,14,15,16,17,18,19,20],\n",
    "                            header = 1, \n",
    "                            index_col=0, \n",
    "                            sheet_name=\"Crime Rates\")\n",
    "\n",
    "# Dropping NAs and irrelevant columns\n",
    "crime_df = crime_df.dropna()\n",
    "crime_df = crime_df.drop(labels = ['Borough','1999-00','2000-01','2001-02','2002-03','2003-04','2004-05',\n",
    "                                         '2005-06','2006-07','2007-08','2008-09','2009-10','2010-11'],axis = 1)\n",
    "\n",
    "# Renaming the columns name and dropping irrelevant areas (Codes outside of London)\n",
    "crime_df = crime_df.rename(index=str,columns={'2011-12':'2011','2012-13':'2012','2013-14':'2013'\n",
    "                           ,'2014-15':'2014','2015-16':'2015','2016-17':'2016','2017-18':'2017'})\n",
    "crime_df = crime_df.drop(['E12000007','E13000001','E13000002'],axis = 0)\n",
    "crime_df = crime_df.sort_values(by='Code')\n",
    "\n",
    "# Converting table into panel data format\n",
    "crime_2011 = crime_df[\"2011\"]\n",
    "crime_2012 = crime_df[\"2012\"]\n",
    "crime_2013 = crime_df[\"2013\"]\n",
    "crime_2014 = crime_df[\"2014\"] \n",
    "crime_2015 = crime_df[\"2015\"]\n",
    "crime_2016 = crime_df[\"2016\"]\n",
    "crime_2017 = crime_df[\"2017\"]\n",
    "crime_df2 = pd.concat([crime_2011,crime_2012,crime_2013,crime_2014,crime_2015,crime_2016,crime_2017]\n",
    "                       ,axis = 0)\n",
    "crime_df2 = pd.DataFrame(crime_df2,columns = ['Crime Rates'])\n",
    "\n",
    "# Creating lists of Borough Codes and Years for crime_df2 \n",
    "codes = []\n",
    "for i in crime_df.columns:\n",
    "    for j in range(33):\n",
    "        codes.append(i)\n",
    "years = []        \n",
    "for j in range(7):\n",
    "    for i in crime_df.index:\n",
    "        years.append(i)        \n",
    "\n",
    "# Adding Borough codes to Borough Codes to crime_df2\n",
    "years_df = pd.DataFrame(codes,columns = ['Year'],index = years)\n",
    "crime_df2 = pd.concat([years_df,crime_df2],axis = 1)\n",
    "crime_df2 = crime_df2.sort_values(by = ['Code','Year'])\n",
    "\n",
    "# Resetting the index and converting year values in preperation of merge\n",
    "crime_df2.reset_index(inplace=True)\n",
    "crime_df2[\"Year\"] = crime_df2[\"Year\"].astype(int)"
   ]
  },
  {
   "cell_type": "code",
   "execution_count": 5,
   "metadata": {},
   "outputs": [
    {
     "data": {
      "text/html": [
       "<div>\n",
       "<style scoped>\n",
       "    .dataframe tbody tr th:only-of-type {\n",
       "        vertical-align: middle;\n",
       "    }\n",
       "\n",
       "    .dataframe tbody tr th {\n",
       "        vertical-align: top;\n",
       "    }\n",
       "\n",
       "    .dataframe thead th {\n",
       "        text-align: right;\n",
       "    }\n",
       "</style>\n",
       "<table border=\"1\" class=\"dataframe\">\n",
       "  <thead>\n",
       "    <tr style=\"text-align: right;\">\n",
       "      <th></th>\n",
       "      <th>Code</th>\n",
       "      <th>Year</th>\n",
       "      <th>Crime Rates</th>\n",
       "    </tr>\n",
       "  </thead>\n",
       "  <tbody>\n",
       "    <tr>\n",
       "      <th>0</th>\n",
       "      <td>E09000001</td>\n",
       "      <td>2011</td>\n",
       "      <td>90.6</td>\n",
       "    </tr>\n",
       "    <tr>\n",
       "      <th>1</th>\n",
       "      <td>E09000001</td>\n",
       "      <td>2012</td>\n",
       "      <td>85.8</td>\n",
       "    </tr>\n",
       "    <tr>\n",
       "      <th>2</th>\n",
       "      <td>E09000001</td>\n",
       "      <td>2013</td>\n",
       "      <td>77.9</td>\n",
       "    </tr>\n",
       "    <tr>\n",
       "      <th>3</th>\n",
       "      <td>E09000001</td>\n",
       "      <td>2014</td>\n",
       "      <td>85.5</td>\n",
       "    </tr>\n",
       "    <tr>\n",
       "      <th>4</th>\n",
       "      <td>E09000001</td>\n",
       "      <td>2015</td>\n",
       "      <td>82.4</td>\n",
       "    </tr>\n",
       "  </tbody>\n",
       "</table>\n",
       "</div>"
      ],
      "text/plain": [
       "        Code  Year  Crime Rates\n",
       "0  E09000001  2011         90.6\n",
       "1  E09000001  2012         85.8\n",
       "2  E09000001  2013         77.9\n",
       "3  E09000001  2014         85.5\n",
       "4  E09000001  2015         82.4"
      ]
     },
     "execution_count": 5,
     "metadata": {},
     "output_type": "execute_result"
    }
   ],
   "source": [
    "# Checking first 5 rows of dataset\n",
    "crime_df2.head()"
   ]
  },
  {
   "cell_type": "markdown",
   "metadata": {},
   "source": [
    "###  Education\n",
    "- Source - **London Datastore** \n",
    "- Variable of Interest - **Schools**"
   ]
  },
  {
   "cell_type": "code",
   "execution_count": 6,
   "metadata": {},
   "outputs": [],
   "source": [
    "# Each years data is held on a different worksheet in the excel file\n",
    "# Defining functions that will automatically clean a worksheet\n",
    "# For years 2011-2015\n",
    "def education_cleaning1(year):\n",
    "    education_df = pd.read_excel(\"01. Education Data.xls\", header=1, \n",
    "                                 usecols=[0,1,18],\n",
    "                                 skiprows=[2,3,4,38,39,40,41,42,43,44,45,46,47,48,49,50,51,52,53,54],\n",
    "                                 sheet_name=year)  \n",
    "    education_df = education_df.dropna()\n",
    "    education_df = education_df.rename(columns={'All schools': 'Schools'})\n",
    "    education_df[\"Schools\"]=education_df[\"Schools\"].astype(int) # change from float to int\n",
    "    education_df.insert(2,\"Year\",year)\n",
    "    return education_df\n",
    " \n",
    "# Function for years 2016-2017, as \"total\" are in different columns in dataset\n",
    "def education_cleaning2(year):\n",
    "    education_df = pd.read_excel(\"01. Education Data.xls\", header=1, \n",
    "                             usecols=[0,1,16],\n",
    "                             skiprows=[2,3,4,38,39,40,41,42,43,44,45,46,47,48,49,50,51,52,53,54],\n",
    "                             sheet_name=year)  \n",
    "    education_df = education_df.dropna()\n",
    "    education_df = education_df.rename(columns={'All schools': 'Schools'})\n",
    "    education_df[\"Schools\"]=education_df[\"Schools\"].astype(int)\n",
    "    education_df.insert(2,\"Year\",year)\n",
    "    return education_df\n",
    "\n",
    "# Grouping all the dataframes together\n",
    "edu_2011 = education_cleaning1(\"2011\")\n",
    "edu_2012 = education_cleaning1(\"2012\")\n",
    "edu_2013 = education_cleaning1(\"2013\")\n",
    "edu_2014 = education_cleaning1(\"2014\") \n",
    "edu_2015 = education_cleaning1(\"2015\")\n",
    "edu_2016 = education_cleaning2(\"2016\")\n",
    "edu_2017 = education_cleaning2(\"2017\")\n",
    "\n",
    "edu_dataset = [edu_2011, edu_2012, edu_2013, edu_2014,edu_2015,edu_2016,\n",
    "               edu_2017]\n",
    "edu_df = pd.concat(edu_dataset)\n",
    "\n",
    "# Transforming dataframe into panel data format by ordering and renaming columns\n",
    "edu_df = edu_df.sort_values(by=[\"LA Code\",\"Year\"])\n",
    "edu_df=edu_df.rename(columns={\"LA Code\": 'Code'})\n",
    "\n",
    "# Converting year values and keeping relevant columns in preperation of merge\n",
    "edu_df[\"Year\"]=edu_df[\"Year\"].astype(int)\n",
    "edu_df = edu_df[[\"Code\", \"Year\", \"Schools\"]]"
   ]
  },
  {
   "cell_type": "code",
   "execution_count": 7,
   "metadata": {},
   "outputs": [
    {
     "data": {
      "text/html": [
       "<div>\n",
       "<style scoped>\n",
       "    .dataframe tbody tr th:only-of-type {\n",
       "        vertical-align: middle;\n",
       "    }\n",
       "\n",
       "    .dataframe tbody tr th {\n",
       "        vertical-align: top;\n",
       "    }\n",
       "\n",
       "    .dataframe thead th {\n",
       "        text-align: right;\n",
       "    }\n",
       "</style>\n",
       "<table border=\"1\" class=\"dataframe\">\n",
       "  <thead>\n",
       "    <tr style=\"text-align: right;\">\n",
       "      <th></th>\n",
       "      <th>Code</th>\n",
       "      <th>Year</th>\n",
       "      <th>Schools</th>\n",
       "    </tr>\n",
       "  </thead>\n",
       "  <tbody>\n",
       "    <tr>\n",
       "      <th>0</th>\n",
       "      <td>E09000001</td>\n",
       "      <td>2011</td>\n",
       "      <td>5</td>\n",
       "    </tr>\n",
       "    <tr>\n",
       "      <th>0</th>\n",
       "      <td>E09000001</td>\n",
       "      <td>2012</td>\n",
       "      <td>5</td>\n",
       "    </tr>\n",
       "    <tr>\n",
       "      <th>0</th>\n",
       "      <td>E09000001</td>\n",
       "      <td>2013</td>\n",
       "      <td>5</td>\n",
       "    </tr>\n",
       "    <tr>\n",
       "      <th>0</th>\n",
       "      <td>E09000001</td>\n",
       "      <td>2014</td>\n",
       "      <td>5</td>\n",
       "    </tr>\n",
       "    <tr>\n",
       "      <th>0</th>\n",
       "      <td>E09000001</td>\n",
       "      <td>2015</td>\n",
       "      <td>5</td>\n",
       "    </tr>\n",
       "  </tbody>\n",
       "</table>\n",
       "</div>"
      ],
      "text/plain": [
       "        Code  Year  Schools\n",
       "0  E09000001  2011        5\n",
       "0  E09000001  2012        5\n",
       "0  E09000001  2013        5\n",
       "0  E09000001  2014        5\n",
       "0  E09000001  2015        5"
      ]
     },
     "execution_count": 7,
     "metadata": {},
     "output_type": "execute_result"
    }
   ],
   "source": [
    "# Checking first 5 rows of dataset\n",
    "edu_df.head()"
   ]
  },
  {
   "cell_type": "markdown",
   "metadata": {},
   "source": [
    "### Employment Opportunity\n",
    "- Source - **London Datastore** \n",
    "- Variable of Interest - **Job Density**"
   ]
  },
  {
   "cell_type": "code",
   "execution_count": 8,
   "metadata": {},
   "outputs": [],
   "source": [
    "# Importing the Employment Opportunity Dataset\n",
    "employment_opps_df = pd.read_excel(\"01. Employment Opportuntiy Data.xlsx\", index_col=0, sheet_name=\"Jobs Density\")      \n",
    "\n",
    "# Dropping NAs, irrelevant areas (Codes outside of London) and years\n",
    "employment_opps_df = employment_opps_df.dropna()\n",
    "employment_opps_df = employment_opps_df[0:33]\n",
    "employment_opps_df = employment_opps_df[[2011,2012,2013, 2014, 2015, 2016, 2017]]\n",
    "\n",
    "# Converting the dataframe into panel data format\n",
    "employment_df = employment_opps_df.stack()\n",
    "employment_df = pd.DataFrame(employment_df)\n",
    "\n",
    "# Renaming the Years and Job Density Columns\n",
    "employment_df = employment_df.reset_index()\n",
    "employment_df.rename(index=str, columns={\"level_1\": \"Year\", 0: \"Job Density\"}, inplace = True)"
   ]
  },
  {
   "cell_type": "code",
   "execution_count": 9,
   "metadata": {},
   "outputs": [
    {
     "data": {
      "text/html": [
       "<div>\n",
       "<style scoped>\n",
       "    .dataframe tbody tr th:only-of-type {\n",
       "        vertical-align: middle;\n",
       "    }\n",
       "\n",
       "    .dataframe tbody tr th {\n",
       "        vertical-align: top;\n",
       "    }\n",
       "\n",
       "    .dataframe thead th {\n",
       "        text-align: right;\n",
       "    }\n",
       "</style>\n",
       "<table border=\"1\" class=\"dataframe\">\n",
       "  <thead>\n",
       "    <tr style=\"text-align: right;\">\n",
       "      <th></th>\n",
       "      <th>Code</th>\n",
       "      <th>Year</th>\n",
       "      <th>Job Density</th>\n",
       "    </tr>\n",
       "  </thead>\n",
       "  <tbody>\n",
       "    <tr>\n",
       "      <th>0</th>\n",
       "      <td>E09000001</td>\n",
       "      <td>2011</td>\n",
       "      <td>75.79</td>\n",
       "    </tr>\n",
       "    <tr>\n",
       "      <th>1</th>\n",
       "      <td>E09000001</td>\n",
       "      <td>2012</td>\n",
       "      <td>92.41</td>\n",
       "    </tr>\n",
       "    <tr>\n",
       "      <th>2</th>\n",
       "      <td>E09000001</td>\n",
       "      <td>2013</td>\n",
       "      <td>110.98</td>\n",
       "    </tr>\n",
       "    <tr>\n",
       "      <th>3</th>\n",
       "      <td>E09000001</td>\n",
       "      <td>2014</td>\n",
       "      <td>121.23</td>\n",
       "    </tr>\n",
       "    <tr>\n",
       "      <th>4</th>\n",
       "      <td>E09000001</td>\n",
       "      <td>2015</td>\n",
       "      <td>121.73</td>\n",
       "    </tr>\n",
       "  </tbody>\n",
       "</table>\n",
       "</div>"
      ],
      "text/plain": [
       "        Code  Year  Job Density\n",
       "0  E09000001  2011        75.79\n",
       "1  E09000001  2012        92.41\n",
       "2  E09000001  2013       110.98\n",
       "3  E09000001  2014       121.23\n",
       "4  E09000001  2015       121.73"
      ]
     },
     "execution_count": 9,
     "metadata": {},
     "output_type": "execute_result"
    }
   ],
   "source": [
    "# Checking first 5 rows of dataset\n",
    "employment_df.head()"
   ]
  },
  {
   "cell_type": "markdown",
   "metadata": {},
   "source": [
    "### Wages\n",
    "- Source - **London Datastore** \n",
    "- Variable of Interest - **Full-Time Annual Salary**"
   ]
  },
  {
   "cell_type": "code",
   "execution_count": 10,
   "metadata": {},
   "outputs": [],
   "source": [
    "# Importing the Wages, Area Codes dataset\n",
    "wages_df = pd.read_excel(\"01. Wage Dataset.xlsx\", index_col=0, sheet_name=\"Full-time, Weekly\")\n",
    "area_codes_df = pd.read_csv(\"01. Area Codes.csv\")\n",
    "\n",
    "# Removing NAs and filtering for relevant areas\n",
    "wages_df = wages_df.dropna()\n",
    "wages_df = wages_df[0:33]\n",
    "\n",
    "# Merging Wages and London Area Codes Dataset (this adds the area codes for each borough)\n",
    "wages_df = wages_df.rename(columns={\"Area\": \"Borough\"})\n",
    "m_wages_df = pd.merge(wages_df, area_codes_df, on = 'Borough')\n",
    "m_wages_df = m_wages_df.drop([\"Borough\"], axis = 1)\n",
    "\n",
    "#Select the year ranging from 2011 to 2017, whilst dropping any duplicated row\n",
    "m_wages_df = m_wages_df[[\"Area Code\",2011,2012,2013, 2014, 2015, 2016, 2017]]\n",
    "m_wages_df = m_wages_df.set_index(\"Area Code\")\n",
    "m_wages_df = m_wages_df.drop_duplicates()\n",
    "m_wages_df = m_wages_df.replace(\"#\",0)\n",
    "\n",
    "#Since we used the weekly wage sheet, to get the annual salary we times weekly wages by 52\n",
    "m_wages_df[[2011,2012,2013, 2014, 2015, 2016, 2017]] = m_wages_df[[2011,2012,2013, 2014, 2015, 2016, 2017]]*52\n",
    "f_wages_df = m_wages_df[[2011,2012,2013, 2014, 2015, 2016, 2017]]\n",
    "\n",
    "#using the stack function we will transform the dataframe into a panel data \n",
    "f_wages_df = f_wages_df.stack()\n",
    "f_wages_df = f_wages_df.reset_index()\n",
    "f_wages_df.rename(index=str, columns={\"Area Code\": \"Code\",\"level_1\": \"Year\", 0: \"Annual Salary\"}, inplace = True)"
   ]
  },
  {
   "cell_type": "code",
   "execution_count": 11,
   "metadata": {},
   "outputs": [
    {
     "data": {
      "text/html": [
       "<div>\n",
       "<style scoped>\n",
       "    .dataframe tbody tr th:only-of-type {\n",
       "        vertical-align: middle;\n",
       "    }\n",
       "\n",
       "    .dataframe tbody tr th {\n",
       "        vertical-align: top;\n",
       "    }\n",
       "\n",
       "    .dataframe thead th {\n",
       "        text-align: right;\n",
       "    }\n",
       "</style>\n",
       "<table border=\"1\" class=\"dataframe\">\n",
       "  <thead>\n",
       "    <tr style=\"text-align: right;\">\n",
       "      <th></th>\n",
       "      <th>Code</th>\n",
       "      <th>Year</th>\n",
       "      <th>Annual Salary</th>\n",
       "    </tr>\n",
       "  </thead>\n",
       "  <tbody>\n",
       "    <tr>\n",
       "      <th>0</th>\n",
       "      <td>E09000001</td>\n",
       "      <td>2011</td>\n",
       "      <td>52358.800000</td>\n",
       "    </tr>\n",
       "    <tr>\n",
       "      <th>1</th>\n",
       "      <td>E09000001</td>\n",
       "      <td>2012</td>\n",
       "      <td>52379.993605</td>\n",
       "    </tr>\n",
       "    <tr>\n",
       "      <th>2</th>\n",
       "      <td>E09000001</td>\n",
       "      <td>2013</td>\n",
       "      <td>55510.309047</td>\n",
       "    </tr>\n",
       "    <tr>\n",
       "      <th>3</th>\n",
       "      <td>E09000001</td>\n",
       "      <td>2014</td>\n",
       "      <td>55514.808380</td>\n",
       "    </tr>\n",
       "    <tr>\n",
       "      <th>4</th>\n",
       "      <td>E09000001</td>\n",
       "      <td>2015</td>\n",
       "      <td>55889.369644</td>\n",
       "    </tr>\n",
       "  </tbody>\n",
       "</table>\n",
       "</div>"
      ],
      "text/plain": [
       "        Code  Year  Annual Salary\n",
       "0  E09000001  2011   52358.800000\n",
       "1  E09000001  2012   52379.993605\n",
       "2  E09000001  2013   55510.309047\n",
       "3  E09000001  2014   55514.808380\n",
       "4  E09000001  2015   55889.369644"
      ]
     },
     "execution_count": 11,
     "metadata": {},
     "output_type": "execute_result"
    }
   ],
   "source": [
    "# Checking first 5 rows of dataset\n",
    "f_wages_df.head()"
   ]
  },
  {
   "cell_type": "markdown",
   "metadata": {},
   "source": [
    "###  Leisure & Entertainment\n",
    "- Source - **London Datastore** \n",
    "- Variable of Interest - **Number of Pubs and Restaurants**"
   ]
  },
  {
   "cell_type": "code",
   "execution_count": 12,
   "metadata": {},
   "outputs": [],
   "source": [
    "#importing the pubs (p) and restaurants (r) datasets\n",
    "leisure_p_df = pd.read_excel(\"01. Leisure & Entertainment Data (Pubs).xls\", sheet_name=\"Pubs units\", header = 3, skiprows = [4,5]) \n",
    "leisure_r_df = pd.read_excel(\"01. Leisure & Entertainment Data (Restaurants).xls\", sheet_name=\"Restaurants units\", header = 3,skiprows = [4,5]) \n",
    "\n",
    "# Dropping NAs\n",
    "leisure_p_df = leisure_p_df.dropna()\n",
    "leisure_r_df = leisure_r_df.dropna()\n",
    "\n",
    "# Renaming columns manually\n",
    "leisure_p_df = leisure_p_df.rename(columns={\"Unnamed: 0\":\"Area Code\", \"Unnamed: 1\": \"Area Name\"})\n",
    "leisure_p_df = leisure_p_df.set_index(\"Area Code\")\n",
    "leisure_r_df = leisure_r_df.rename(columns={\"Unnamed: 0\":\"Area Code\",\"Unnamed: 1\": \"Area Name\"})\n",
    "leisure_r_df = leisure_r_df.set_index(\"Area Code\")\n",
    "\n",
    "# Excluding years outside of 2011 - 2017\n",
    "leisure_p_df_selected = leisure_p_df[[2011, 2012,2013,2014,2015,2016,2017]]\n",
    "leisure_r_df_selected = leisure_r_df[[2011, 2012,2013,2014,2015,2016,2017]]\n",
    "\n",
    "# Converting to panel data format\n",
    "panel_leisure_p_df_selected = leisure_p_df_selected.stack()\n",
    "panel_leisure_p_df_selected = pd.DataFrame(panel_leisure_p_df_selected)\n",
    "panel_leisure_r_df_selected = leisure_r_df_selected.stack()\n",
    "panel_leisure_r_df_selected = pd.DataFrame(panel_leisure_r_df_selected)\n",
    "\n",
    "# Renaming columns years and No. of Pubs/Restaurants\n",
    "panel_leisure_p_df_selected = panel_leisure_p_df_selected.reset_index()\n",
    "panel_leisure_p_df_selected.rename(index=str, columns={\"level_1\": \"Year\", 0: \"Number of Facilities\"}, inplace = True)\n",
    "panel_leisure_r_df_selected = panel_leisure_r_df_selected.reset_index()\n",
    "panel_leisure_r_df_selected.rename(index=str, columns={\"level_1\": \"Year\", 0: \"Number of Facilities\"}, inplace = True)\n",
    "\n",
    "# Merging Pubs and Restaurants into one Dataframe\n",
    "leisure_df = pd.merge(panel_leisure_p_df_selected, panel_leisure_r_df_selected, left_index=True, right_index=True, how='outer')\n",
    "leisure_df = leisure_df.drop(['Area Code_y', 'Year_y'], axis=1)\n",
    "leisure_df = leisure_df.rename(index=str, columns={\"Area Code_x\":\"Area Code\", \"Year_x\": \"Year\", \"Number of Facilities_x\": \"Number of Pubs\",\"Number of Facilities_y\":\"Number of Restaurants\"})\n",
    "\n",
    "# Combining Bars and Restuarants Values and renaming Area Code Column in preparation of merge\n",
    "leisure_df[\"Bars and Restaurants\"] = leisure_df['Number of Pubs'] + leisure_df['Number of Restaurants']\n",
    "leisure_df = leisure_df.drop(['Number of Restaurants', 'Number of Pubs'], axis=1)\n",
    "leisure_df = leisure_df.rename(columns={\"Area Code\":\"Code\"})"
   ]
  },
  {
   "cell_type": "code",
   "execution_count": 13,
   "metadata": {},
   "outputs": [
    {
     "data": {
      "text/html": [
       "<div>\n",
       "<style scoped>\n",
       "    .dataframe tbody tr th:only-of-type {\n",
       "        vertical-align: middle;\n",
       "    }\n",
       "\n",
       "    .dataframe tbody tr th {\n",
       "        vertical-align: top;\n",
       "    }\n",
       "\n",
       "    .dataframe thead th {\n",
       "        text-align: right;\n",
       "    }\n",
       "</style>\n",
       "<table border=\"1\" class=\"dataframe\">\n",
       "  <thead>\n",
       "    <tr style=\"text-align: right;\">\n",
       "      <th></th>\n",
       "      <th>Code</th>\n",
       "      <th>Year</th>\n",
       "      <th>Bars and Restaurants</th>\n",
       "    </tr>\n",
       "  </thead>\n",
       "  <tbody>\n",
       "    <tr>\n",
       "      <th>0</th>\n",
       "      <td>E09000001</td>\n",
       "      <td>2011</td>\n",
       "      <td>365.0</td>\n",
       "    </tr>\n",
       "    <tr>\n",
       "      <th>1</th>\n",
       "      <td>E09000001</td>\n",
       "      <td>2012</td>\n",
       "      <td>370.0</td>\n",
       "    </tr>\n",
       "    <tr>\n",
       "      <th>2</th>\n",
       "      <td>E09000001</td>\n",
       "      <td>2013</td>\n",
       "      <td>385.0</td>\n",
       "    </tr>\n",
       "    <tr>\n",
       "      <th>3</th>\n",
       "      <td>E09000001</td>\n",
       "      <td>2014</td>\n",
       "      <td>415.0</td>\n",
       "    </tr>\n",
       "    <tr>\n",
       "      <th>4</th>\n",
       "      <td>E09000001</td>\n",
       "      <td>2015</td>\n",
       "      <td>420.0</td>\n",
       "    </tr>\n",
       "  </tbody>\n",
       "</table>\n",
       "</div>"
      ],
      "text/plain": [
       "        Code  Year  Bars and Restaurants\n",
       "0  E09000001  2011                 365.0\n",
       "1  E09000001  2012                 370.0\n",
       "2  E09000001  2013                 385.0\n",
       "3  E09000001  2014                 415.0\n",
       "4  E09000001  2015                 420.0"
      ]
     },
     "execution_count": 13,
     "metadata": {},
     "output_type": "execute_result"
    }
   ],
   "source": [
    "# Checking first 5 rows of dataset\n",
    "leisure_df.head()"
   ]
  },
  {
   "cell_type": "markdown",
   "metadata": {},
   "source": [
    "### Healthcare\n",
    "- Source - **NHS** \n",
    "- Variable of Interest - **Number of GP Practices**"
   ]
  },
  {
   "cell_type": "code",
   "execution_count": 14,
   "metadata": {},
   "outputs": [],
   "source": [
    "# Importing the healthcare, mappings and area codes datasets\n",
    "healthcare_df = pd.read_csv(\"01. Healthcare Data.csv\", names=[\"Practice Name\", \"Postcode\"], usecols= [1, 9])\n",
    "mappings_df = pd.read_csv('01. Postcodes to Borough Mappings.csv', usecols=[0,8])\n",
    "area_codes_df = pd.read_csv(\"01. Area Codes.csv\")\n",
    "\n",
    "# Dropping NAs from dataset\n",
    "healthcare_df = healthcare_df.dropna()\n",
    "\n",
    "# Merging Healthcare and Mappings Dataset\n",
    "mappings_df = mappings_df.rename(columns = {\"District\": \"Borough\"})\n",
    "m_healthcare_df = pd.merge(healthcare_df, mappings_df,on = ['Postcode'],how = 'inner')\n",
    "m_healthcare_df = m_healthcare_df[[\"Practice Name\", \"Borough\"]]\n",
    "\n",
    "# Aggregating Dataframe by the number of Practices per Borough\n",
    "m_healthcare_df = m_healthcare_df['Borough'].value_counts().rename_axis('Borough').reset_index(name='Healthcare Practices')\n",
    "\n",
    "# Merging Healthcare and London Area Codes Dataset (this drops practices out of London)\n",
    "f_healthcare_df = pd.merge(m_healthcare_df, area_codes_df, on=\"Borough\")\n",
    "f_healthcare_df = f_healthcare_df.set_index(\"Area Code\").sort_values(\"Area Code\")\n",
    "\n",
    "# Resetting index, renaming and dropping unneeded columns in preparation of merge\n",
    "f_healthcare_df=f_healthcare_df.reset_index(inplace=False)\n",
    "f_healthcare_df.rename(columns={\"Area Code\":\"Code\"}, inplace = True)\n",
    "f_healthcare_df=f_healthcare_df.drop(columns=\"Borough\")"
   ]
  },
  {
   "cell_type": "code",
   "execution_count": 15,
   "metadata": {},
   "outputs": [
    {
     "data": {
      "text/html": [
       "<div>\n",
       "<style scoped>\n",
       "    .dataframe tbody tr th:only-of-type {\n",
       "        vertical-align: middle;\n",
       "    }\n",
       "\n",
       "    .dataframe tbody tr th {\n",
       "        vertical-align: top;\n",
       "    }\n",
       "\n",
       "    .dataframe thead th {\n",
       "        text-align: right;\n",
       "    }\n",
       "</style>\n",
       "<table border=\"1\" class=\"dataframe\">\n",
       "  <thead>\n",
       "    <tr style=\"text-align: right;\">\n",
       "      <th></th>\n",
       "      <th>Code</th>\n",
       "      <th>Healthcare Practices</th>\n",
       "    </tr>\n",
       "  </thead>\n",
       "  <tbody>\n",
       "    <tr>\n",
       "      <th>0</th>\n",
       "      <td>E09000001</td>\n",
       "      <td>2</td>\n",
       "    </tr>\n",
       "    <tr>\n",
       "      <th>1</th>\n",
       "      <td>E09000002</td>\n",
       "      <td>65</td>\n",
       "    </tr>\n",
       "    <tr>\n",
       "      <th>2</th>\n",
       "      <td>E09000003</td>\n",
       "      <td>98</td>\n",
       "    </tr>\n",
       "    <tr>\n",
       "      <th>3</th>\n",
       "      <td>E09000004</td>\n",
       "      <td>46</td>\n",
       "    </tr>\n",
       "    <tr>\n",
       "      <th>4</th>\n",
       "      <td>E09000005</td>\n",
       "      <td>95</td>\n",
       "    </tr>\n",
       "  </tbody>\n",
       "</table>\n",
       "</div>"
      ],
      "text/plain": [
       "        Code  Healthcare Practices\n",
       "0  E09000001                     2\n",
       "1  E09000002                    65\n",
       "2  E09000003                    98\n",
       "3  E09000004                    46\n",
       "4  E09000005                    95"
      ]
     },
     "execution_count": 15,
     "metadata": {},
     "output_type": "execute_result"
    }
   ],
   "source": [
    "# Checking first 5 rows of dataset\n",
    "f_healthcare_df.head()"
   ]
  },
  {
   "cell_type": "markdown",
   "metadata": {},
   "source": [
    "### Transport\n",
    "- Source - **Doogal** \n",
    "- Variable of Interest - **Number of TfL Transport Stations and Average of TfL Transport Zones (in Borough)**"
   ]
  },
  {
   "cell_type": "code",
   "execution_count": 16,
   "metadata": {},
   "outputs": [],
   "source": [
    "# Importing the transport, mappings and area codes datasets\n",
    "transport_df = pd.read_csv(\"01. Transport Data.csv\")\n",
    "mappings_df = pd.read_csv('01. Postcodes to Borough Mappings.csv', usecols=[0,8])\n",
    "area_codes_df = pd.read_csv(\"01. Area Codes.csv\")\n",
    "\n",
    "# Dropping NAs and keeping columns of interest\n",
    "transport_df = transport_df[[\"Station\", \"Zone\", \"Postcode\"]]\n",
    "transport_df = transport_df.dropna()\n",
    "\n",
    "# Creating a Zone Column representing the most central transport zone\n",
    "zones = transport_df[\"Zone\"].str.split(\",\", expand = True)\n",
    "transport_df[\"Zone\"] = zones[0]\n",
    "\n",
    "# Merging Transport and Mappings Datasets\n",
    "mappings_df = mappings_df.rename(columns = {\"District\": \"Borough\"})\n",
    "m_transport_df = pd.merge(transport_df, mappings_df,on = ['Postcode'],how = 'inner')\n",
    "m_transport_df = m_transport_df[[\"Station\", \"Zone\", \"Borough\"]]\n",
    "\n",
    "# Aggregating Dataframe by the number of Stations per Borough\n",
    "f_transport_df = m_transport_df['Borough'].value_counts().rename_axis('Borough').reset_index(name='Transport Stations')\n",
    "\n",
    "# Creating a Zones dataset with a mean transport zone for each borough\n",
    "zones_df = m_transport_df[[\"Zone\", \"Borough\"]].set_index('Borough')\n",
    "zones_df[\"Zone\"] = zones_df[\"Zone\"].astype(int)\n",
    "zones_df = zones_df.mean(level=\"Borough\")\n",
    "\n",
    "# Merging the merged transport dataset with Zones dataset\n",
    "f_transport_df = pd.merge(f_transport_df, zones_df, on = ['Borough'])\n",
    "f_transport_df.rename(columns={'Zone': 'Average of Transport Zones'}, inplace = True)\n",
    "\n",
    "# Merging Transport and London Area Codes Dataset (this drops practices out of London)\n",
    "f_transport_df = pd.merge(f_transport_df, area_codes_df, on=\"Borough\")\n",
    "f_transport_df = f_transport_df.set_index(\"Area Code\").sort_values(\"Area Code\")\n",
    "\n",
    "# Resetting index, renaming and dropping unneeded columns in preparation of merge\n",
    "f_transport_df = f_transport_df.reset_index(inplace=False)\n",
    "f_transport_df.rename(columns={\"Area Code\":\"Code\"}, inplace = True)\n",
    "f_transport_df = f_transport_df.drop(columns=\"Borough\")"
   ]
  },
  {
   "cell_type": "code",
   "execution_count": 17,
   "metadata": {},
   "outputs": [
    {
     "data": {
      "text/html": [
       "<div>\n",
       "<style scoped>\n",
       "    .dataframe tbody tr th:only-of-type {\n",
       "        vertical-align: middle;\n",
       "    }\n",
       "\n",
       "    .dataframe tbody tr th {\n",
       "        vertical-align: top;\n",
       "    }\n",
       "\n",
       "    .dataframe thead th {\n",
       "        text-align: right;\n",
       "    }\n",
       "</style>\n",
       "<table border=\"1\" class=\"dataframe\">\n",
       "  <thead>\n",
       "    <tr style=\"text-align: right;\">\n",
       "      <th></th>\n",
       "      <th>Code</th>\n",
       "      <th>Transport Stations</th>\n",
       "      <th>Average of Transport Zones</th>\n",
       "    </tr>\n",
       "  </thead>\n",
       "  <tbody>\n",
       "    <tr>\n",
       "      <th>0</th>\n",
       "      <td>E09000001</td>\n",
       "      <td>13</td>\n",
       "      <td>1.000000</td>\n",
       "    </tr>\n",
       "    <tr>\n",
       "      <th>1</th>\n",
       "      <td>E09000002</td>\n",
       "      <td>7</td>\n",
       "      <td>4.714286</td>\n",
       "    </tr>\n",
       "    <tr>\n",
       "      <th>2</th>\n",
       "      <td>E09000003</td>\n",
       "      <td>18</td>\n",
       "      <td>3.833333</td>\n",
       "    </tr>\n",
       "    <tr>\n",
       "      <th>3</th>\n",
       "      <td>E09000004</td>\n",
       "      <td>12</td>\n",
       "      <td>5.166667</td>\n",
       "    </tr>\n",
       "    <tr>\n",
       "      <th>4</th>\n",
       "      <td>E09000005</td>\n",
       "      <td>27</td>\n",
       "      <td>3.148148</td>\n",
       "    </tr>\n",
       "  </tbody>\n",
       "</table>\n",
       "</div>"
      ],
      "text/plain": [
       "        Code  Transport Stations  Average of Transport Zones\n",
       "0  E09000001                  13                    1.000000\n",
       "1  E09000002                   7                    4.714286\n",
       "2  E09000003                  18                    3.833333\n",
       "3  E09000004                  12                    5.166667\n",
       "4  E09000005                  27                    3.148148"
      ]
     },
     "execution_count": 17,
     "metadata": {},
     "output_type": "execute_result"
    }
   ],
   "source": [
    "# Checking first 5 rows of dataset\n",
    "f_transport_df.head()"
   ]
  },
  {
   "cell_type": "markdown",
   "metadata": {},
   "source": [
    "## Data Merge"
   ]
  },
  {
   "cell_type": "markdown",
   "metadata": {},
   "source": [
    "### Panel Data"
   ]
  },
  {
   "cell_type": "code",
   "execution_count": 18,
   "metadata": {},
   "outputs": [],
   "source": [
    "# Merging the indidviual panel dataframes\n",
    "sources_df = [house_price_df, crime_df2, edu_df, employment_df, f_wages_df, leisure_df]\n",
    "\n",
    "final_dataset = reduce(lambda  left, right: pd.merge(left,right,on=(\"Code\",\"Year\"),\n",
    "                                            how='inner'), sources_df)\n",
    "\n",
    "# Capitalising Area Column\n",
    "final_dataset[\"Area\"] = final_dataset[\"Area\"].apply(lambda x: x.upper())"
   ]
  },
  {
   "cell_type": "code",
   "execution_count": 19,
   "metadata": {},
   "outputs": [
    {
     "data": {
      "text/html": [
       "<div>\n",
       "<style scoped>\n",
       "    .dataframe tbody tr th:only-of-type {\n",
       "        vertical-align: middle;\n",
       "    }\n",
       "\n",
       "    .dataframe tbody tr th {\n",
       "        vertical-align: top;\n",
       "    }\n",
       "\n",
       "    .dataframe thead th {\n",
       "        text-align: right;\n",
       "    }\n",
       "</style>\n",
       "<table border=\"1\" class=\"dataframe\">\n",
       "  <thead>\n",
       "    <tr style=\"text-align: right;\">\n",
       "      <th></th>\n",
       "      <th>Code</th>\n",
       "      <th>Area</th>\n",
       "      <th>Year</th>\n",
       "      <th>House Price</th>\n",
       "      <th>Crime Rates</th>\n",
       "      <th>Schools</th>\n",
       "      <th>Job Density</th>\n",
       "      <th>Annual Salary</th>\n",
       "      <th>Bars and Restaurants</th>\n",
       "    </tr>\n",
       "  </thead>\n",
       "  <tbody>\n",
       "    <tr>\n",
       "      <th>0</th>\n",
       "      <td>E09000001</td>\n",
       "      <td>CITY OF LONDON</td>\n",
       "      <td>2011</td>\n",
       "      <td>463930</td>\n",
       "      <td>90.6</td>\n",
       "      <td>5</td>\n",
       "      <td>75.79</td>\n",
       "      <td>52358.800000</td>\n",
       "      <td>365.0</td>\n",
       "    </tr>\n",
       "    <tr>\n",
       "      <th>1</th>\n",
       "      <td>E09000001</td>\n",
       "      <td>CITY OF LONDON</td>\n",
       "      <td>2012</td>\n",
       "      <td>525327</td>\n",
       "      <td>85.8</td>\n",
       "      <td>5</td>\n",
       "      <td>92.41</td>\n",
       "      <td>52379.993605</td>\n",
       "      <td>370.0</td>\n",
       "    </tr>\n",
       "    <tr>\n",
       "      <th>2</th>\n",
       "      <td>E09000001</td>\n",
       "      <td>CITY OF LONDON</td>\n",
       "      <td>2013</td>\n",
       "      <td>570008</td>\n",
       "      <td>77.9</td>\n",
       "      <td>5</td>\n",
       "      <td>110.98</td>\n",
       "      <td>55510.309047</td>\n",
       "      <td>385.0</td>\n",
       "    </tr>\n",
       "    <tr>\n",
       "      <th>3</th>\n",
       "      <td>E09000001</td>\n",
       "      <td>CITY OF LONDON</td>\n",
       "      <td>2014</td>\n",
       "      <td>709385</td>\n",
       "      <td>85.5</td>\n",
       "      <td>5</td>\n",
       "      <td>121.23</td>\n",
       "      <td>55514.808380</td>\n",
       "      <td>415.0</td>\n",
       "    </tr>\n",
       "    <tr>\n",
       "      <th>4</th>\n",
       "      <td>E09000001</td>\n",
       "      <td>CITY OF LONDON</td>\n",
       "      <td>2015</td>\n",
       "      <td>760253</td>\n",
       "      <td>82.4</td>\n",
       "      <td>5</td>\n",
       "      <td>121.73</td>\n",
       "      <td>55889.369644</td>\n",
       "      <td>420.0</td>\n",
       "    </tr>\n",
       "  </tbody>\n",
       "</table>\n",
       "</div>"
      ],
      "text/plain": [
       "        Code            Area  Year  House Price  Crime Rates  Schools  \\\n",
       "0  E09000001  CITY OF LONDON  2011       463930         90.6        5   \n",
       "1  E09000001  CITY OF LONDON  2012       525327         85.8        5   \n",
       "2  E09000001  CITY OF LONDON  2013       570008         77.9        5   \n",
       "3  E09000001  CITY OF LONDON  2014       709385         85.5        5   \n",
       "4  E09000001  CITY OF LONDON  2015       760253         82.4        5   \n",
       "\n",
       "   Job Density  Annual Salary  Bars and Restaurants  \n",
       "0        75.79   52358.800000                 365.0  \n",
       "1        92.41   52379.993605                 370.0  \n",
       "2       110.98   55510.309047                 385.0  \n",
       "3       121.23   55514.808380                 415.0  \n",
       "4       121.73   55889.369644                 420.0  "
      ]
     },
     "execution_count": 19,
     "metadata": {},
     "output_type": "execute_result"
    }
   ],
   "source": [
    "# Checking first 5 rows of dataset\n",
    "final_dataset.head()"
   ]
  },
  {
   "cell_type": "markdown",
   "metadata": {},
   "source": [
    "### First Year Data"
   ]
  },
  {
   "cell_type": "code",
   "execution_count": 20,
   "metadata": {},
   "outputs": [],
   "source": [
    "# Filtering Final Dataset for the first year (2011)\n",
    "firstyr_dataset = final_dataset[final_dataset[\"Year\"]==2011].drop(columns=\"Year\")\n",
    "\n",
    "# Merging Filtered Final Dataset with Transport and Healthcare Dataset\n",
    "firstyr_dataset = pd.merge(firstyr_dataset, f_healthcare_df,on=(\"Code\"))\n",
    "firstyr_dataset = pd.merge(firstyr_dataset, f_transport_df,on=(\"Code\"))"
   ]
  },
  {
   "cell_type": "code",
   "execution_count": 21,
   "metadata": {},
   "outputs": [
    {
     "data": {
      "text/html": [
       "<div>\n",
       "<style scoped>\n",
       "    .dataframe tbody tr th:only-of-type {\n",
       "        vertical-align: middle;\n",
       "    }\n",
       "\n",
       "    .dataframe tbody tr th {\n",
       "        vertical-align: top;\n",
       "    }\n",
       "\n",
       "    .dataframe thead th {\n",
       "        text-align: right;\n",
       "    }\n",
       "</style>\n",
       "<table border=\"1\" class=\"dataframe\">\n",
       "  <thead>\n",
       "    <tr style=\"text-align: right;\">\n",
       "      <th></th>\n",
       "      <th>Code</th>\n",
       "      <th>Area</th>\n",
       "      <th>House Price</th>\n",
       "      <th>Crime Rates</th>\n",
       "      <th>Schools</th>\n",
       "      <th>Job Density</th>\n",
       "      <th>Annual Salary</th>\n",
       "      <th>Bars and Restaurants</th>\n",
       "      <th>Healthcare Practices</th>\n",
       "      <th>Transport Stations</th>\n",
       "      <th>Average of Transport Zones</th>\n",
       "    </tr>\n",
       "  </thead>\n",
       "  <tbody>\n",
       "    <tr>\n",
       "      <th>0</th>\n",
       "      <td>E09000001</td>\n",
       "      <td>CITY OF LONDON</td>\n",
       "      <td>463930</td>\n",
       "      <td>90.600000</td>\n",
       "      <td>5</td>\n",
       "      <td>75.79</td>\n",
       "      <td>52358.8</td>\n",
       "      <td>365.0</td>\n",
       "      <td>2</td>\n",
       "      <td>13</td>\n",
       "      <td>1.000000</td>\n",
       "    </tr>\n",
       "    <tr>\n",
       "      <th>1</th>\n",
       "      <td>E09000002</td>\n",
       "      <td>BARKING AND DAGENHAM</td>\n",
       "      <td>163465</td>\n",
       "      <td>100.652840</td>\n",
       "      <td>59</td>\n",
       "      <td>0.45</td>\n",
       "      <td>26041.6</td>\n",
       "      <td>55.0</td>\n",
       "      <td>65</td>\n",
       "      <td>7</td>\n",
       "      <td>4.714286</td>\n",
       "    </tr>\n",
       "    <tr>\n",
       "      <th>2</th>\n",
       "      <td>E09000003</td>\n",
       "      <td>BARNET</td>\n",
       "      <td>338978</td>\n",
       "      <td>73.505474</td>\n",
       "      <td>154</td>\n",
       "      <td>0.62</td>\n",
       "      <td>32312.8</td>\n",
       "      <td>300.0</td>\n",
       "      <td>98</td>\n",
       "      <td>18</td>\n",
       "      <td>3.833333</td>\n",
       "    </tr>\n",
       "    <tr>\n",
       "      <th>3</th>\n",
       "      <td>E09000004</td>\n",
       "      <td>BEXLEY</td>\n",
       "      <td>200672</td>\n",
       "      <td>52.273879</td>\n",
       "      <td>83</td>\n",
       "      <td>0.53</td>\n",
       "      <td>31668.0</td>\n",
       "      <td>190.0</td>\n",
       "      <td>46</td>\n",
       "      <td>12</td>\n",
       "      <td>5.166667</td>\n",
       "    </tr>\n",
       "    <tr>\n",
       "      <th>4</th>\n",
       "      <td>E09000005</td>\n",
       "      <td>BRENT</td>\n",
       "      <td>298964</td>\n",
       "      <td>101.176960</td>\n",
       "      <td>103</td>\n",
       "      <td>0.53</td>\n",
       "      <td>25911.6</td>\n",
       "      <td>250.0</td>\n",
       "      <td>95</td>\n",
       "      <td>27</td>\n",
       "      <td>3.148148</td>\n",
       "    </tr>\n",
       "  </tbody>\n",
       "</table>\n",
       "</div>"
      ],
      "text/plain": [
       "        Code                  Area  House Price  Crime Rates  Schools  \\\n",
       "0  E09000001        CITY OF LONDON       463930    90.600000        5   \n",
       "1  E09000002  BARKING AND DAGENHAM       163465   100.652840       59   \n",
       "2  E09000003                BARNET       338978    73.505474      154   \n",
       "3  E09000004                BEXLEY       200672    52.273879       83   \n",
       "4  E09000005                 BRENT       298964   101.176960      103   \n",
       "\n",
       "   Job Density  Annual Salary  Bars and Restaurants  Healthcare Practices  \\\n",
       "0        75.79        52358.8                 365.0                     2   \n",
       "1         0.45        26041.6                  55.0                    65   \n",
       "2         0.62        32312.8                 300.0                    98   \n",
       "3         0.53        31668.0                 190.0                    46   \n",
       "4         0.53        25911.6                 250.0                    95   \n",
       "\n",
       "   Transport Stations  Average of Transport Zones  \n",
       "0                  13                    1.000000  \n",
       "1                   7                    4.714286  \n",
       "2                  18                    3.833333  \n",
       "3                  12                    5.166667  \n",
       "4                  27                    3.148148  "
      ]
     },
     "execution_count": 21,
     "metadata": {},
     "output_type": "execute_result"
    }
   ],
   "source": [
    "# Checking first 5 rows of dataset\n",
    "firstyr_dataset.head()"
   ]
  },
  {
   "cell_type": "markdown",
   "metadata": {},
   "source": [
    "### Last Year Data"
   ]
  },
  {
   "cell_type": "code",
   "execution_count": 22,
   "metadata": {},
   "outputs": [],
   "source": [
    "# Filtering Final Dataset for the last year (2017)\n",
    "lastyr_dataset = final_dataset[final_dataset[\"Year\"]==2017].drop(columns=\"Year\")\n",
    "\n",
    "# Merging Filtered Final Dataset with Transport and Healthcare Dataset\n",
    "lastyr_dataset = pd.merge(lastyr_dataset, f_healthcare_df,on=(\"Code\"))\n",
    "lastyr_dataset = pd.merge(lastyr_dataset, f_transport_df,on=(\"Code\"))"
   ]
  },
  {
   "cell_type": "code",
   "execution_count": 23,
   "metadata": {},
   "outputs": [
    {
     "data": {
      "text/html": [
       "<div>\n",
       "<style scoped>\n",
       "    .dataframe tbody tr th:only-of-type {\n",
       "        vertical-align: middle;\n",
       "    }\n",
       "\n",
       "    .dataframe tbody tr th {\n",
       "        vertical-align: top;\n",
       "    }\n",
       "\n",
       "    .dataframe thead th {\n",
       "        text-align: right;\n",
       "    }\n",
       "</style>\n",
       "<table border=\"1\" class=\"dataframe\">\n",
       "  <thead>\n",
       "    <tr style=\"text-align: right;\">\n",
       "      <th></th>\n",
       "      <th>Code</th>\n",
       "      <th>Area</th>\n",
       "      <th>House Price</th>\n",
       "      <th>Crime Rates</th>\n",
       "      <th>Schools</th>\n",
       "      <th>Job Density</th>\n",
       "      <th>Annual Salary</th>\n",
       "      <th>Bars and Restaurants</th>\n",
       "      <th>Healthcare Practices</th>\n",
       "      <th>Transport Stations</th>\n",
       "      <th>Average of Transport Zones</th>\n",
       "    </tr>\n",
       "  </thead>\n",
       "  <tbody>\n",
       "    <tr>\n",
       "      <th>0</th>\n",
       "      <td>E09000001</td>\n",
       "      <td>CITY OF LONDON</td>\n",
       "      <td>849790</td>\n",
       "      <td>92.200000</td>\n",
       "      <td>5</td>\n",
       "      <td>124.78</td>\n",
       "      <td>57328.122094</td>\n",
       "      <td>455.0</td>\n",
       "      <td>2</td>\n",
       "      <td>13</td>\n",
       "      <td>1.000000</td>\n",
       "    </tr>\n",
       "    <tr>\n",
       "      <th>1</th>\n",
       "      <td>E09000002</td>\n",
       "      <td>BARKING AND DAGENHAM</td>\n",
       "      <td>287734</td>\n",
       "      <td>78.794325</td>\n",
       "      <td>64</td>\n",
       "      <td>0.49</td>\n",
       "      <td>28906.800000</td>\n",
       "      <td>55.0</td>\n",
       "      <td>65</td>\n",
       "      <td>7</td>\n",
       "      <td>4.714286</td>\n",
       "    </tr>\n",
       "    <tr>\n",
       "      <th>2</th>\n",
       "      <td>E09000003</td>\n",
       "      <td>BARNET</td>\n",
       "      <td>538280</td>\n",
       "      <td>54.429232</td>\n",
       "      <td>161</td>\n",
       "      <td>0.70</td>\n",
       "      <td>35880.000000</td>\n",
       "      <td>350.0</td>\n",
       "      <td>98</td>\n",
       "      <td>18</td>\n",
       "      <td>3.833333</td>\n",
       "    </tr>\n",
       "    <tr>\n",
       "      <th>3</th>\n",
       "      <td>E09000004</td>\n",
       "      <td>BEXLEY</td>\n",
       "      <td>335694</td>\n",
       "      <td>39.765179</td>\n",
       "      <td>84</td>\n",
       "      <td>0.59</td>\n",
       "      <td>32479.200000</td>\n",
       "      <td>205.0</td>\n",
       "      <td>46</td>\n",
       "      <td>12</td>\n",
       "      <td>5.166667</td>\n",
       "    </tr>\n",
       "    <tr>\n",
       "      <th>4</th>\n",
       "      <td>E09000005</td>\n",
       "      <td>BRENT</td>\n",
       "      <td>487703</td>\n",
       "      <td>69.910019</td>\n",
       "      <td>98</td>\n",
       "      <td>0.71</td>\n",
       "      <td>29302.000000</td>\n",
       "      <td>260.0</td>\n",
       "      <td>95</td>\n",
       "      <td>27</td>\n",
       "      <td>3.148148</td>\n",
       "    </tr>\n",
       "  </tbody>\n",
       "</table>\n",
       "</div>"
      ],
      "text/plain": [
       "        Code                  Area  House Price  Crime Rates  Schools  \\\n",
       "0  E09000001        CITY OF LONDON       849790    92.200000        5   \n",
       "1  E09000002  BARKING AND DAGENHAM       287734    78.794325       64   \n",
       "2  E09000003                BARNET       538280    54.429232      161   \n",
       "3  E09000004                BEXLEY       335694    39.765179       84   \n",
       "4  E09000005                 BRENT       487703    69.910019       98   \n",
       "\n",
       "   Job Density  Annual Salary  Bars and Restaurants  Healthcare Practices  \\\n",
       "0       124.78   57328.122094                 455.0                     2   \n",
       "1         0.49   28906.800000                  55.0                    65   \n",
       "2         0.70   35880.000000                 350.0                    98   \n",
       "3         0.59   32479.200000                 205.0                    46   \n",
       "4         0.71   29302.000000                 260.0                    95   \n",
       "\n",
       "   Transport Stations  Average of Transport Zones  \n",
       "0                  13                    1.000000  \n",
       "1                   7                    4.714286  \n",
       "2                  18                    3.833333  \n",
       "3                  12                    5.166667  \n",
       "4                  27                    3.148148  "
      ]
     },
     "execution_count": 23,
     "metadata": {},
     "output_type": "execute_result"
    }
   ],
   "source": [
    "# Checking first 5 rows of dataset\n",
    "lastyr_dataset.head()"
   ]
  },
  {
   "cell_type": "markdown",
   "metadata": {},
   "source": [
    "# 3.  Descriptive and Exploratory Analysis"
   ]
  },
  {
   "cell_type": "markdown",
   "metadata": {},
   "source": [
    "### Data type and Borough"
   ]
  },
  {
   "cell_type": "markdown",
   "metadata": {},
   "source": [
    "Here, we introduce the datatypes of all variables and list all boroughs in London."
   ]
  },
  {
   "cell_type": "code",
   "execution_count": 24,
   "metadata": {},
   "outputs": [
    {
     "data": {
      "text/plain": [
       "Code                     object\n",
       "Area                     object\n",
       "Year                      int64\n",
       "House Price               int64\n",
       "Crime Rates             float64\n",
       "Schools                   int64\n",
       "Job Density             float64\n",
       "Annual Salary           float64\n",
       "Bars and Restaurants    float64\n",
       "dtype: object"
      ]
     },
     "execution_count": 24,
     "metadata": {},
     "output_type": "execute_result"
    }
   ],
   "source": [
    "final_dataset.dtypes"
   ]
  },
  {
   "cell_type": "code",
   "execution_count": 25,
   "metadata": {},
   "outputs": [
    {
     "data": {
      "text/html": [
       "<div>\n",
       "<style scoped>\n",
       "    .dataframe tbody tr th:only-of-type {\n",
       "        vertical-align: middle;\n",
       "    }\n",
       "\n",
       "    .dataframe tbody tr th {\n",
       "        vertical-align: top;\n",
       "    }\n",
       "\n",
       "    .dataframe thead th {\n",
       "        text-align: right;\n",
       "    }\n",
       "</style>\n",
       "<table border=\"1\" class=\"dataframe\">\n",
       "  <thead>\n",
       "    <tr style=\"text-align: right;\">\n",
       "      <th></th>\n",
       "      <th>Area</th>\n",
       "    </tr>\n",
       "    <tr>\n",
       "      <th>Code</th>\n",
       "      <th></th>\n",
       "    </tr>\n",
       "  </thead>\n",
       "  <tbody>\n",
       "    <tr>\n",
       "      <th>E09000001</th>\n",
       "      <td>CITY OF LONDON</td>\n",
       "    </tr>\n",
       "    <tr>\n",
       "      <th>E09000002</th>\n",
       "      <td>BARKING AND DAGENHAM</td>\n",
       "    </tr>\n",
       "    <tr>\n",
       "      <th>E09000003</th>\n",
       "      <td>BARNET</td>\n",
       "    </tr>\n",
       "    <tr>\n",
       "      <th>E09000004</th>\n",
       "      <td>BEXLEY</td>\n",
       "    </tr>\n",
       "    <tr>\n",
       "      <th>E09000005</th>\n",
       "      <td>BRENT</td>\n",
       "    </tr>\n",
       "    <tr>\n",
       "      <th>E09000006</th>\n",
       "      <td>BROMLEY</td>\n",
       "    </tr>\n",
       "    <tr>\n",
       "      <th>E09000007</th>\n",
       "      <td>CAMDEN</td>\n",
       "    </tr>\n",
       "    <tr>\n",
       "      <th>E09000008</th>\n",
       "      <td>CROYDON</td>\n",
       "    </tr>\n",
       "    <tr>\n",
       "      <th>E09000009</th>\n",
       "      <td>EALING</td>\n",
       "    </tr>\n",
       "    <tr>\n",
       "      <th>E09000010</th>\n",
       "      <td>ENFIELD</td>\n",
       "    </tr>\n",
       "    <tr>\n",
       "      <th>E09000011</th>\n",
       "      <td>GREENWICH</td>\n",
       "    </tr>\n",
       "    <tr>\n",
       "      <th>E09000012</th>\n",
       "      <td>HACKNEY</td>\n",
       "    </tr>\n",
       "    <tr>\n",
       "      <th>E09000013</th>\n",
       "      <td>HAMMERSMITH AND FULHAM</td>\n",
       "    </tr>\n",
       "    <tr>\n",
       "      <th>E09000014</th>\n",
       "      <td>HARINGEY</td>\n",
       "    </tr>\n",
       "    <tr>\n",
       "      <th>E09000015</th>\n",
       "      <td>HARROW</td>\n",
       "    </tr>\n",
       "    <tr>\n",
       "      <th>E09000016</th>\n",
       "      <td>HAVERING</td>\n",
       "    </tr>\n",
       "    <tr>\n",
       "      <th>E09000017</th>\n",
       "      <td>HILLINGDON</td>\n",
       "    </tr>\n",
       "    <tr>\n",
       "      <th>E09000018</th>\n",
       "      <td>HOUNSLOW</td>\n",
       "    </tr>\n",
       "    <tr>\n",
       "      <th>E09000019</th>\n",
       "      <td>ISLINGTON</td>\n",
       "    </tr>\n",
       "    <tr>\n",
       "      <th>E09000020</th>\n",
       "      <td>KENSINGTON AND CHELSEA</td>\n",
       "    </tr>\n",
       "    <tr>\n",
       "      <th>E09000021</th>\n",
       "      <td>KINGSTON UPON THAMES</td>\n",
       "    </tr>\n",
       "    <tr>\n",
       "      <th>E09000022</th>\n",
       "      <td>LAMBETH</td>\n",
       "    </tr>\n",
       "    <tr>\n",
       "      <th>E09000023</th>\n",
       "      <td>LEWISHAM</td>\n",
       "    </tr>\n",
       "    <tr>\n",
       "      <th>E09000024</th>\n",
       "      <td>MERTON</td>\n",
       "    </tr>\n",
       "    <tr>\n",
       "      <th>E09000025</th>\n",
       "      <td>NEWHAM</td>\n",
       "    </tr>\n",
       "    <tr>\n",
       "      <th>E09000026</th>\n",
       "      <td>REDBRIDGE</td>\n",
       "    </tr>\n",
       "    <tr>\n",
       "      <th>E09000027</th>\n",
       "      <td>RICHMOND UPON THAMES</td>\n",
       "    </tr>\n",
       "    <tr>\n",
       "      <th>E09000028</th>\n",
       "      <td>SOUTHWARK</td>\n",
       "    </tr>\n",
       "    <tr>\n",
       "      <th>E09000029</th>\n",
       "      <td>SUTTON</td>\n",
       "    </tr>\n",
       "    <tr>\n",
       "      <th>E09000030</th>\n",
       "      <td>TOWER HAMLETS</td>\n",
       "    </tr>\n",
       "    <tr>\n",
       "      <th>E09000031</th>\n",
       "      <td>WALTHAM FOREST</td>\n",
       "    </tr>\n",
       "    <tr>\n",
       "      <th>E09000032</th>\n",
       "      <td>WANDSWORTH</td>\n",
       "    </tr>\n",
       "    <tr>\n",
       "      <th>E09000033</th>\n",
       "      <td>WESTMINSTER</td>\n",
       "    </tr>\n",
       "  </tbody>\n",
       "</table>\n",
       "</div>"
      ],
      "text/plain": [
       "                             Area\n",
       "Code                             \n",
       "E09000001          CITY OF LONDON\n",
       "E09000002    BARKING AND DAGENHAM\n",
       "E09000003                  BARNET\n",
       "E09000004                  BEXLEY\n",
       "E09000005                   BRENT\n",
       "E09000006                 BROMLEY\n",
       "E09000007                  CAMDEN\n",
       "E09000008                 CROYDON\n",
       "E09000009                  EALING\n",
       "E09000010                 ENFIELD\n",
       "E09000011               GREENWICH\n",
       "E09000012                 HACKNEY\n",
       "E09000013  HAMMERSMITH AND FULHAM\n",
       "E09000014                HARINGEY\n",
       "E09000015                  HARROW\n",
       "E09000016                HAVERING\n",
       "E09000017              HILLINGDON\n",
       "E09000018                HOUNSLOW\n",
       "E09000019               ISLINGTON\n",
       "E09000020  KENSINGTON AND CHELSEA\n",
       "E09000021    KINGSTON UPON THAMES\n",
       "E09000022                 LAMBETH\n",
       "E09000023                LEWISHAM\n",
       "E09000024                  MERTON\n",
       "E09000025                  NEWHAM\n",
       "E09000026               REDBRIDGE\n",
       "E09000027    RICHMOND UPON THAMES\n",
       "E09000028               SOUTHWARK\n",
       "E09000029                  SUTTON\n",
       "E09000030           TOWER HAMLETS\n",
       "E09000031          WALTHAM FOREST\n",
       "E09000032              WANDSWORTH\n",
       "E09000033             WESTMINSTER"
      ]
     },
     "execution_count": 25,
     "metadata": {},
     "output_type": "execute_result"
    }
   ],
   "source": [
    "table_borough = final_dataset[[\"Code\",\"Area\"]].drop_duplicates()\n",
    "table_borough.set_index(\"Code\")"
   ]
  },
  {
   "cell_type": "markdown",
   "metadata": {},
   "source": [
    "## Statistical Description of Data"
   ]
  },
  {
   "cell_type": "markdown",
   "metadata": {},
   "source": [
    "We create a summary statistics table for our dataset:"
   ]
  },
  {
   "cell_type": "code",
   "execution_count": 26,
   "metadata": {},
   "outputs": [
    {
     "data": {
      "text/html": [
       "<div>\n",
       "<style scoped>\n",
       "    .dataframe tbody tr th:only-of-type {\n",
       "        vertical-align: middle;\n",
       "    }\n",
       "\n",
       "    .dataframe tbody tr th {\n",
       "        vertical-align: top;\n",
       "    }\n",
       "\n",
       "    .dataframe thead th {\n",
       "        text-align: right;\n",
       "    }\n",
       "</style>\n",
       "<table border=\"1\" class=\"dataframe\">\n",
       "  <thead>\n",
       "    <tr style=\"text-align: right;\">\n",
       "      <th></th>\n",
       "      <th>Year</th>\n",
       "      <th>House Price</th>\n",
       "      <th>Crime Rates</th>\n",
       "      <th>Schools</th>\n",
       "      <th>Job Density</th>\n",
       "      <th>Annual Salary</th>\n",
       "      <th>Bars and Restaurants</th>\n",
       "    </tr>\n",
       "  </thead>\n",
       "  <tbody>\n",
       "    <tr>\n",
       "      <th>count</th>\n",
       "      <td>231.000000</td>\n",
       "      <td>2.310000e+02</td>\n",
       "      <td>231.000000</td>\n",
       "      <td>231.000000</td>\n",
       "      <td>231.000000</td>\n",
       "      <td>231.000000</td>\n",
       "      <td>231.000000</td>\n",
       "    </tr>\n",
       "    <tr>\n",
       "      <th>mean</th>\n",
       "      <td>2014.000000</td>\n",
       "      <td>4.357631e+05</td>\n",
       "      <td>84.779510</td>\n",
       "      <td>93.536797</td>\n",
       "      <td>4.194805</td>\n",
       "      <td>33529.633135</td>\n",
       "      <td>326.645022</td>\n",
       "    </tr>\n",
       "    <tr>\n",
       "      <th>std</th>\n",
       "      <td>2.004343</td>\n",
       "      <td>2.126523e+05</td>\n",
       "      <td>34.024164</td>\n",
       "      <td>26.678557</td>\n",
       "      <td>18.972746</td>\n",
       "      <td>5366.229929</td>\n",
       "      <td>270.522240</td>\n",
       "    </tr>\n",
       "    <tr>\n",
       "      <th>min</th>\n",
       "      <td>2011.000000</td>\n",
       "      <td>1.634650e+05</td>\n",
       "      <td>39.765179</td>\n",
       "      <td>5.000000</td>\n",
       "      <td>0.390000</td>\n",
       "      <td>25906.400000</td>\n",
       "      <td>55.000000</td>\n",
       "    </tr>\n",
       "    <tr>\n",
       "      <th>25%</th>\n",
       "      <td>2012.000000</td>\n",
       "      <td>2.979545e+05</td>\n",
       "      <td>64.265730</td>\n",
       "      <td>78.500000</td>\n",
       "      <td>0.540000</td>\n",
       "      <td>30209.400000</td>\n",
       "      <td>187.500000</td>\n",
       "    </tr>\n",
       "    <tr>\n",
       "      <th>50%</th>\n",
       "      <td>2014.000000</td>\n",
       "      <td>3.769240e+05</td>\n",
       "      <td>77.847006</td>\n",
       "      <td>96.000000</td>\n",
       "      <td>0.650000</td>\n",
       "      <td>32219.200000</td>\n",
       "      <td>255.000000</td>\n",
       "    </tr>\n",
       "    <tr>\n",
       "      <th>75%</th>\n",
       "      <td>2016.000000</td>\n",
       "      <td>5.035330e+05</td>\n",
       "      <td>96.723957</td>\n",
       "      <td>108.000000</td>\n",
       "      <td>1.100000</td>\n",
       "      <td>35648.600000</td>\n",
       "      <td>370.000000</td>\n",
       "    </tr>\n",
       "    <tr>\n",
       "      <th>max</th>\n",
       "      <td>2017.000000</td>\n",
       "      <td>1.344539e+06</td>\n",
       "      <td>302.005629</td>\n",
       "      <td>164.000000</td>\n",
       "      <td>124.780000</td>\n",
       "      <td>57328.122094</td>\n",
       "      <td>1700.000000</td>\n",
       "    </tr>\n",
       "  </tbody>\n",
       "</table>\n",
       "</div>"
      ],
      "text/plain": [
       "              Year   House Price  Crime Rates     Schools  Job Density  \\\n",
       "count   231.000000  2.310000e+02   231.000000  231.000000   231.000000   \n",
       "mean   2014.000000  4.357631e+05    84.779510   93.536797     4.194805   \n",
       "std       2.004343  2.126523e+05    34.024164   26.678557    18.972746   \n",
       "min    2011.000000  1.634650e+05    39.765179    5.000000     0.390000   \n",
       "25%    2012.000000  2.979545e+05    64.265730   78.500000     0.540000   \n",
       "50%    2014.000000  3.769240e+05    77.847006   96.000000     0.650000   \n",
       "75%    2016.000000  5.035330e+05    96.723957  108.000000     1.100000   \n",
       "max    2017.000000  1.344539e+06   302.005629  164.000000   124.780000   \n",
       "\n",
       "       Annual Salary  Bars and Restaurants  \n",
       "count     231.000000            231.000000  \n",
       "mean    33529.633135            326.645022  \n",
       "std      5366.229929            270.522240  \n",
       "min     25906.400000             55.000000  \n",
       "25%     30209.400000            187.500000  \n",
       "50%     32219.200000            255.000000  \n",
       "75%     35648.600000            370.000000  \n",
       "max     57328.122094           1700.000000  "
      ]
     },
     "execution_count": 26,
     "metadata": {},
     "output_type": "execute_result"
    }
   ],
   "source": [
    "descriptive_table = final_dataset.describe()\n",
    "descriptive_table"
   ]
  },
  {
   "cell_type": "markdown",
   "metadata": {},
   "source": [
    "We have 231 observations. \n",
    "Now we provide a snapshot of 2017’s summary statistics:"
   ]
  },
  {
   "cell_type": "code",
   "execution_count": 27,
   "metadata": {},
   "outputs": [
    {
     "data": {
      "text/html": [
       "<div>\n",
       "<style scoped>\n",
       "    .dataframe tbody tr th:only-of-type {\n",
       "        vertical-align: middle;\n",
       "    }\n",
       "\n",
       "    .dataframe tbody tr th {\n",
       "        vertical-align: top;\n",
       "    }\n",
       "\n",
       "    .dataframe thead th {\n",
       "        text-align: right;\n",
       "    }\n",
       "</style>\n",
       "<table border=\"1\" class=\"dataframe\">\n",
       "  <thead>\n",
       "    <tr style=\"text-align: right;\">\n",
       "      <th></th>\n",
       "      <th>mean</th>\n",
       "    </tr>\n",
       "  </thead>\n",
       "  <tbody>\n",
       "    <tr>\n",
       "      <th>House Price</th>\n",
       "      <td>62.59%</td>\n",
       "    </tr>\n",
       "    <tr>\n",
       "      <th>Crime Rates</th>\n",
       "      <td>-28.21%</td>\n",
       "    </tr>\n",
       "    <tr>\n",
       "      <th>Schools</th>\n",
       "      <td>4.14%</td>\n",
       "    </tr>\n",
       "    <tr>\n",
       "      <th>Job Density</th>\n",
       "      <td>51.12%</td>\n",
       "    </tr>\n",
       "    <tr>\n",
       "      <th>Annual Salary</th>\n",
       "      <td>7.3%</td>\n",
       "    </tr>\n",
       "    <tr>\n",
       "      <th>Bars and Restaurants</th>\n",
       "      <td>15.27%</td>\n",
       "    </tr>\n",
       "  </tbody>\n",
       "</table>\n",
       "</div>"
      ],
      "text/plain": [
       "                         mean\n",
       "House Price            62.59%\n",
       "Crime Rates           -28.21%\n",
       "Schools                 4.14%\n",
       "Job Density            51.12%\n",
       "Annual Salary            7.3%\n",
       "Bars and Restaurants   15.27%"
      ]
     },
     "execution_count": 27,
     "metadata": {},
     "output_type": "execute_result"
    }
   ],
   "source": [
    "#Using describe to generate mean for all the variable in 2011 and create a Dataframe \n",
    "last = lastyr_dataset.describe()\n",
    "lastyr_describe = pd.DataFrame(last)\n",
    "\n",
    "#Using describe to generate mean for all the variable in 2017 and create a Dataframe \n",
    "first = firstyr_dataset.describe()\n",
    "firstyr_describe = pd.DataFrame(first)\n",
    "\n",
    "#using the following formula we can generate the percentage different over the 6 years.\n",
    "ptc_df = round(((lastyr_describe - firstyr_describe)/(firstyr_describe))*100,2)\n",
    "#Dropping any non-relevant variable, since Healthcare Practice, Transport station and average transport zone didn't change between 2011 and 2017. \n",
    "ptc_df = ptc_df.drop([\"Healthcare Practices\", \"Transport Stations\", \"Average of Transport Zones\"], axis = 1)\n",
    "#Dropping other non-relevant rows provided by the describe function\n",
    "ptc_df = ptc_df[1:2]\n",
    "#Adding percentage sign onto the values \n",
    "ptc_df.astype(str).add(\"%\").T"
   ]
  },
  {
   "cell_type": "markdown",
   "metadata": {},
   "source": [
    "Next, we vissualize the percentage change in summary statistics from 2011 to 2017. "
   ]
  },
  {
   "cell_type": "code",
   "execution_count": 28,
   "metadata": {},
   "outputs": [
    {
     "data": {
      "text/plain": [
       "<Figure size 1152x576 with 0 Axes>"
      ]
     },
     "execution_count": 28,
     "metadata": {},
     "output_type": "execute_result"
    },
    {
     "data": {
      "text/plain": [
       "<matplotlib.axes._subplots.AxesSubplot at 0x7fb920d2d4f0>"
      ]
     },
     "execution_count": 28,
     "metadata": {},
     "output_type": "execute_result"
    },
    {
     "data": {
      "text/plain": [
       "<Figure size 1152x576 with 0 Axes>"
      ]
     },
     "metadata": {},
     "output_type": "display_data"
    },
    {
     "data": {
      "image/png": "[encoded data removed]",
      "text/plain": [
       "<Figure size 432x288 with 1 Axes>"
      ]
     },
     "metadata": {
      "needs_background": "light"
     },
     "output_type": "display_data"
    }
   ],
   "source": [
    "%matplotlib inline\n",
    "plt.figure(figsize=(16, 8))\n",
    "ptc_df.plot.bar()"
   ]
  },
  {
   "cell_type": "markdown",
   "metadata": {},
   "source": [
    "##  Exploratory Analysis \n"
   ]
  },
  {
   "cell_type": "markdown",
   "metadata": {},
   "source": [
    "##  Dependent Variable - House Price"
   ]
  },
  {
   "cell_type": "markdown",
   "metadata": {},
   "source": [
    "We will now review house prices in detail, as it is  our dependent variable in Section 4.\n"
   ]
  },
  {
   "cell_type": "markdown",
   "metadata": {},
   "source": [
    "### House Price Heatmap"
   ]
  },
  {
   "cell_type": "code",
   "execution_count": 3,
   "metadata": {
    "scrolled": false
   },
   "outputs": [
    {
     "data": {
      "text/html": [
       "# we didn't run the output because it cannot show correctly in PDF. However we took a screenshot to show what does it looks like. People can run it on faculty.\n",
       "<div class='tableauPlaceholder' id='viz1607777849491' style='position: relative'><noscript><a href='#'><img alt=' ' src='https:&#47;&#47;public.tableau.com&#47;static&#47;images&#47;SM&#47;SMX2P7QYY&#47;1_rss.png' style='border: none' /></a></noscript><object class='tableauViz'  style='display:none;'><param name='host_url' value='https%3A%2F%2Fpublic.tableau.com%2F' /> <param name='embed_code_version' value='3' /> <param name='path' value='shared&#47;SMX2P7QYY' /> <param name='toolbar' value='yes' /><param name='static_image' value='https:&#47;&#47;public.tableau.com&#47;static&#47;images&#47;SM&#47;SMX2P7QYY&#47;1.png' /> <param name='animate_transition' value='yes' /><param name='display_static_image' value='yes' /><param name='display_spinner' value='yes' /><param name='display_overlay' value='yes' /><param name='display_count' value='yes' /><param name='language' value='en' /><param name='filter' value='publish=yes' /></object></div>                <script type='text/javascript'>                    var divElement = document.getElementById('viz1607777849491');                    var vizElement = divElement.getElementsByTagName('object')[0];                    vizElement.style.width='100%';vizElement.style.height=(divElement.offsetWidth*0.75)+'px';                    var scriptElement = document.createElement('script');                    scriptElement.src = 'https://public.tableau.com/javascripts/api/viz_v1.js';                    vizElement.parentNode.insertBefore(scriptElement, vizElement);                </script>\n"
      ],
      "text/plain": [
       "<IPython.core.display.HTML object>"
      ]
     },
     "metadata": {},
     "output_type": "display_data"
    }
   ],
   "source": [
    "%%HTML \n",
    "# we didn't run the output because it cannot show correctly in PDF. However we took a screenshot to show what does it looks like. People can run it on faculty.\n",
    "<div class='tableauPlaceholder' id='viz1607777849491' style='position: relative'><noscript><a href='#'><img alt=' ' src='https:&#47;&#47;public.tableau.com&#47;static&#47;images&#47;SM&#47;SMX2P7QYY&#47;1_rss.png' style='border: none' /></a></noscript><object class='tableauViz'  style='display:none;'><param name='host_url' value='https%3A%2F%2Fpublic.tableau.com%2F' /> <param name='embed_code_version' value='3' /> <param name='path' value='shared&#47;SMX2P7QYY' /> <param name='toolbar' value='yes' /><param name='static_image' value='https:&#47;&#47;public.tableau.com&#47;static&#47;images&#47;SM&#47;SMX2P7QYY&#47;1.png' /> <param name='animate_transition' value='yes' /><param name='display_static_image' value='yes' /><param name='display_spinner' value='yes' /><param name='display_overlay' value='yes' /><param name='display_count' value='yes' /><param name='language' value='en' /><param name='filter' value='publish=yes' /></object></div>                <script type='text/javascript'>                    var divElement = document.getElementById('viz1607777849491');                    var vizElement = divElement.getElementsByTagName('object')[0];                    vizElement.style.width='100%';vizElement.style.height=(divElement.offsetWidth*0.75)+'px';                    var scriptElement = document.createElement('script');                    scriptElement.src = 'https://public.tableau.com/javascripts/api/viz_v1.js';                    vizElement.parentNode.insertBefore(scriptElement, vizElement);                </script>"
   ]
  },
  {
   "cell_type": "markdown",
   "metadata": {},
   "source": [
    "<img src=\"./Heatmap.JPG\" width=\"100%\" align=\"centre\">"
   ]
  },
  {
   "cell_type": "markdown",
   "metadata": {},
   "source": [
    "### Annual Salary and House Price Plot"
   ]
  },
  {
   "cell_type": "markdown",
   "metadata": {},
   "source": [
    "Given high property prices in London, we compare the percentage change in Londoners’ salaries and house prices."
   ]
  },
  {
   "attachments": {
    "Annual%20Salary%20V%20House%20Price%20Plot.JPG": {
     "image/jpeg": "[encoded data removed]"
    }
   },
   "cell_type": "markdown",
   "metadata": {},
   "source": [
    "![Annual%20Salary%20V%20House%20Price%20Plot.JPG](attachment:Annual%20Salary%20V%20House%20Price%20Plot.JPG)"
   ]
  },
  {
   "cell_type": "markdown",
   "metadata": {},
   "source": [
    "Between 2013 and 2014, the percentage change in house prices increased by 8.11%, attributed to record low interest rates, driving up demand (Osborne, 2014). However, from 2016 to 2017 the percentage change in  prices decreased by 3.19%, as uncertainty over Brexit take effect (Collinson, 2017). \n",
    "\n",
    "\n",
    "London's problem of affordability is visualised above, by the disproportionate increases in house prices relative to annual salary. New home buyers face challenging times ahead."
   ]
  },
  {
   "cell_type": "markdown",
   "metadata": {},
   "source": [
    "### Histogram"
   ]
  },
  {
   "cell_type": "code",
   "execution_count": 29,
   "metadata": {},
   "outputs": [
    {
     "data": {
      "text/plain": [
       "<Figure size 1152x576 with 0 Axes>"
      ]
     },
     "execution_count": 29,
     "metadata": {},
     "output_type": "execute_result"
    },
    {
     "data": {
      "text/plain": [
       "(array([ 7., 12.,  6.,  3.,  1.,  2.,  0.,  1.,  0.,  1.]),\n",
       " array([ 287734. ,  393414.5,  499095. ,  604775.5,  710456. ,  816136.5,\n",
       "         921817. , 1027497.5, 1133178. , 1238858.5, 1344539. ]),\n",
       " <a list of 10 Patch objects>)"
      ]
     },
     "execution_count": 29,
     "metadata": {},
     "output_type": "execute_result"
    },
    {
     "data": {
      "text/plain": [
       "Text(0.5, 1.0, \"London Boroughs' Average House Prices in 2017\")"
      ]
     },
     "execution_count": 29,
     "metadata": {},
     "output_type": "execute_result"
    },
    {
     "data": {
      "text/plain": [
       "([<matplotlib.axis.XTick at 0x7f058a3e5130>,\n",
       "  <matplotlib.axis.XTick at 0x7f058a3e5100>,\n",
       "  <matplotlib.axis.XTick at 0x7f05873b36d0>,\n",
       "  <matplotlib.axis.XTick at 0x7f058aa84490>,\n",
       "  <matplotlib.axis.XTick at 0x7f058aa84ca0>,\n",
       "  <matplotlib.axis.XTick at 0x7f058aa84520>,\n",
       "  <matplotlib.axis.XTick at 0x7f058aa5d430>,\n",
       "  <matplotlib.axis.XTick at 0x7f058aa5d8e0>,\n",
       "  <matplotlib.axis.XTick at 0x7f058aa5de50>,\n",
       "  <matplotlib.axis.XTick at 0x7f058aac43a0>,\n",
       "  <matplotlib.axis.XTick at 0x7f058aa35f10>],\n",
       " [Text(0, 0, '287'),\n",
       "  Text(0, 0, '393'),\n",
       "  Text(0, 0, '499'),\n",
       "  Text(0, 0, '604'),\n",
       "  Text(0, 0, '710'),\n",
       "  Text(0, 0, '816'),\n",
       "  Text(0, 0, '921'),\n",
       "  Text(0, 0, '1027'),\n",
       "  Text(0, 0, '1133'),\n",
       "  Text(0, 0, '1238'),\n",
       "  Text(0, 0, '1344')])"
      ]
     },
     "execution_count": 29,
     "metadata": {},
     "output_type": "execute_result"
    },
    {
     "data": {
      "text/plain": [
       "(array([ 0.,  2.,  4.,  6.,  8., 10., 12., 14.]),\n",
       " <a list of 8 Text major ticklabel objects>)"
      ]
     },
     "execution_count": 29,
     "metadata": {},
     "output_type": "execute_result"
    },
    {
     "data": {
      "text/plain": [
       "Text(0.5, 0, 'Average House Price (£000s)')"
      ]
     },
     "execution_count": 29,
     "metadata": {},
     "output_type": "execute_result"
    },
    {
     "data": {
      "text/plain": [
       "Text(0, 0.5, 'Count of Boroughs')"
      ]
     },
     "execution_count": 29,
     "metadata": {},
     "output_type": "execute_result"
    },
    {
     "data": {
      "text/plain": [
       "Text(1180000, 11.5, 'Skew = 1.99')"
      ]
     },
     "execution_count": 29,
     "metadata": {},
     "output_type": "execute_result"
    },
    {
     "data": {
      "image/png": "[encoded data removed]",
      "text/plain": [
       "<Figure size 1152x576 with 1 Axes>"
      ]
     },
     "metadata": {
      "needs_background": "light"
     },
     "output_type": "display_data"
    }
   ],
   "source": [
    "#Selecting House Price to be plotted on the histogram\n",
    "house_price =lastyr_dataset[\"House Price\"]\n",
    "\n",
    "# Creating a histogram based on 10 bins\n",
    "hist, bin_edges = np.histogram(house_price)\n",
    "\n",
    "# Dividing bin edges by 1000 and rounding for ease of reading on histogram\n",
    "tick_labels = bin_edges/1000\n",
    "tick_labels = [int(label) for label in tick_labels]\n",
    "\n",
    "# Calculating the skewness of the histogram\n",
    "skew_value = round(skew(house_price), 2)\n",
    "skew_text = \"Skew = \" + str(skew_value)\n",
    "\n",
    "# Plotting the histogram and adding text on it's skewness\n",
    "\n",
    "plt.figure(figsize=(16, 8))\n",
    "plt.hist(house_price, bins=10)\n",
    "plt.title(\"London Boroughs' Average House Prices in 2017\", fontsize = 20)\n",
    "plt.xticks(bin_edges, tick_labels, fontsize = 12)\n",
    "plt.yticks(fontsize = 12)\n",
    "plt.xlabel(\"Average House Price (£000s)\", fontsize = 14)\n",
    "plt.ylabel(\"Count of Boroughs\", fontsize = 14)\n",
    "plt.text(1180000, 11.5, skew_text, fontsize = 18)\n",
    "plt.show()"
   ]
  },
  {
   "cell_type": "markdown",
   "metadata": {},
   "source": [
    "The House Prices histogram illustrates a positively skewed distribution, indicating that many boroughs  average house prices are below London’s total mean. This is an indication of London’s high upper bound of house prices."
   ]
  },
  {
   "cell_type": "markdown",
   "metadata": {},
   "source": [
    "## Independent Variables"
   ]
  },
  {
   "cell_type": "markdown",
   "metadata": {},
   "source": [
    "## Seaborn Heatmap"
   ]
  },
  {
   "cell_type": "code",
   "execution_count": 30,
   "metadata": {},
   "outputs": [],
   "source": [
    "%%capture\n",
    "# Creating a Seaborn Heatmap visualising the Density of Schools per Borough\n",
    "last = lastyr_dataset\n",
    "last_df = pd.DataFrame(last)\n",
    "school_df = last_df.drop([\"Code\",\"House Price\",\"Bars and Restaurants\",\"Crime Rates\",\"Job Density\",\"Annual Salary\",\"Healthcare Practices\", \"Transport Stations\", \"Average of Transport Zones\"], axis = 1)\n",
    "school_df['Area'] = school_df['Area'].apply(lambda x: x.capitalize()) \n",
    "school_df = school_df.set_index(\"Area\")\n",
    "fig, ax = plt.subplots(figsize=(20,20)) \n",
    "heatmap_school = sn.heatmap(school_df,linewidth=1,square=True,vmin=5, vmax=175, cmap=\"Blues\",annot = True, fmt='.0f', yticklabels = False)\n",
    "\n",
    "# Creating a Seaborn Heatmap visualising the avg. Annual Salary per Borough\n",
    "last = lastyr_dataset\n",
    "last_df = pd.DataFrame(last)\n",
    "salary_df= last_df.drop([\"Code\",\"House Price\",\"Schools\",\"Bars and Restaurants\",\"Crime Rates\",\"Transport Stations\",\"Job Density\", \"Healthcare Practices\", \"Average of Transport Zones\"], axis = 1)\n",
    "salary_df['Area'] = salary_df['Area'].apply(lambda x: x.capitalize()) \n",
    "salary_df = salary_df.set_index(\"Area\")\n",
    "fig, ax = plt.subplots(figsize=(20,20)) \n",
    "heatmap_salary = sn.heatmap(salary_df,linewidth=1,square=True,vmin=20000, vmax=60000, cmap=\"winter_r\",annot = True, fmt='.0f', yticklabels = False)\n",
    "# Extreme outlier: City of London\n",
    "\n",
    "# Creating a Seaborn Heatmap visualising the Density of Leisure Opportunities per Borough\n",
    "last = lastyr_dataset\n",
    "last_df = pd.DataFrame(last)\n",
    "bars_rests_df = last_df.drop([\"Code\",\"House Price\",\"Schools\",\"Crime Rates\",\"Job Density\",\"Annual Salary\",\"Healthcare Practices\", \"Transport Stations\", \"Average of Transport Zones\"], axis = 1)\n",
    "bars_rests_df['Area'] = bars_rests_df['Area'].apply(lambda x: x.capitalize()) \n",
    "bars_rests_df = bars_rests_df.set_index(\"Area\")\n",
    "fig, ax = plt.subplots(figsize=(20,20)) \n",
    "heatmap_leisure = sn.heatmap(bars_rests_df,linewidth=1,square=True,vmin=55, vmax=1000, cmap=\"Reds\",annot = True, fmt='.0f', yticklabels = False)\n",
    "# extreme outlier: Westminster\n",
    "\n",
    "# Creating a Seaborn Heatmap visualising the Number of Tube Stations per Borough\n",
    "last = lastyr_dataset\n",
    "last_df = pd.DataFrame(last)\n",
    "tfl_stations_df= last_df.drop([\"Code\",\"House Price\",\"Schools\",\"Bars and Restaurants\",\"Crime Rates\",\"Annual Salary\",\"Job Density\", \"Healthcare Practices\", \"Average of Transport Zones\"], axis = 1)\n",
    "tfl_stations_df['Area'] = tfl_stations_df['Area'].apply(lambda x: x.capitalize()) \n",
    "tfl_stations_df = tfl_stations_df.set_index(\"Area\")\n",
    "fig, ax = plt.subplots(figsize=(20,20)) \n",
    "heatmap_tfl_stations = sn.heatmap(tfl_stations_df,linewidth=1,square=True,vmin=5, vmax=40, cmap=\"YlOrBr\",annot = True, fmt='.0f', yticklabels = False)\n",
    "# Extreme outlier: Croydon\n",
    "\n",
    "# Creating a Seaborn Heatmap visualising the Density of Healthcare Practices per Borough\n",
    "last = lastyr_dataset\n",
    "last_df = pd.DataFrame(last)\n",
    "healthcare_df= last_df.drop([\"Code\",\"House Price\",\"Schools\",\"Bars and Restaurants\",\"Crime Rates\",\"Annual Salary\",\"Job Density\", \"Transport Stations\", \"Average of Transport Zones\"], axis = 1)\n",
    "healthcare_df['Area'] = healthcare_df['Area'].apply(lambda x: x.capitalize()) \n",
    "healthcare_df = healthcare_df.set_index(\"Area\")\n",
    "fig, ax = plt.subplots(figsize=(20,20)) \n",
    "heatmap_health = sn.heatmap(healthcare_df,linewidth=1,square=True,vmin=2, vmax=95, cmap=\"autumn\",annot = True, fmt='.0f', yticklabels = False)\n",
    "# Extreme outlier: Croydon\n",
    "\n",
    "# Creating a Seaborn Heatmap visualising the Density of Jobs per Borough\n",
    "last = lastyr_dataset\n",
    "last_df = pd.DataFrame(last)\n",
    "job_density_df= last_df.drop([\"Code\",\"House Price\",\"Schools\",\"Bars and Restaurants\",\"Crime Rates\",\"Annual Salary\",\"Healthcare Practices\", \"Transport Stations\", \"Average of Transport Zones\"], axis = 1)\n",
    "job_density_df['Area'] = job_density_df['Area'].apply(lambda x: x.capitalize()) \n",
    "job_density_df = job_density_df.set_index(\"Area\")\n",
    "fig, ax = plt.subplots(figsize=(20,20)) \n",
    "heatmap_density = sn.heatmap(job_density_df,linewidth=1,square=True,vmin=0, vmax=1.5, cmap=\"Purples\",annot = True, fmt='.0f', yticklabels = False)\n",
    "# extreme outlier: City of London\n",
    "\n",
    "# Creating a Seaborn Heatmap visualising the Density of Crime Rate per Borough\n",
    "last = lastyr_dataset\n",
    "last_df = pd.DataFrame(last)\n",
    "crime_df = last_df.drop([\"Code\",\"House Price\",\"Schools\",\"Bars and Restaurants\",\"Job Density\",\"Annual Salary\",\"Healthcare Practices\", \"Transport Stations\", \"Average of Transport Zones\"], axis = 1)\n",
    "crime_df['Area'] = crime_df['Area'].apply(lambda x: x.capitalize()) \n",
    "crime_df = crime_df.set_index(\"Area\")\n",
    "fig, ax = plt.subplots(figsize=(20,20)) \n",
    "heatmap_crime = sn.heatmap(crime_df,linewidth=1,square=True,vmin=35, vmax=100, cmap=\"Greens\",annot = True, fmt='.0f', yticklabels = False )\n",
    "# extreme outlier: Westminster\n",
    "\n",
    "# The 7 heatmaps were merged externally."
   ]
  },
  {
   "cell_type": "markdown",
   "metadata": {},
   "source": [
    "<img src=\"./MergedHeatmap.png\" width=\"70%\" align=\"centre\">"
   ]
  },
  {
   "cell_type": "markdown",
   "metadata": {},
   "source": [
    "The merged heatmap provides us with a snapshot of borough performance per variable in the final year. Central boroughs, e.g. City of London, Camden and Westminster, generally perform strongest. "
   ]
  },
  {
   "cell_type": "markdown",
   "metadata": {},
   "source": [
    "## Correlation Matrix"
   ]
  },
  {
   "cell_type": "markdown",
   "metadata": {},
   "source": [
    "Using a correlation matrix enables us to see closely how variables interact with each other"
   ]
  },
  {
   "cell_type": "code",
   "execution_count": 31,
   "metadata": {},
   "outputs": [
    {
     "data": {
      "text/plain": [
       "<matplotlib.axes._subplots.AxesSubplot at 0x7f0586ceeb50>"
      ]
     },
     "execution_count": 31,
     "metadata": {},
     "output_type": "execute_result"
    },
    {
     "data": {
      "image/png": "[encoded data removed]",
      "text/plain": [
       "<Figure size 720x720 with 2 Axes>"
      ]
     },
     "metadata": {
      "needs_background": "light"
     },
     "output_type": "display_data"
    }
   ],
   "source": [
    "#first we set a size of this correlation matrix so that values are visible \n",
    "fig, ax = plt.subplots(figsize=(10,10))\n",
    "\n",
    "#using the .corr() calculates the correlation matrix \n",
    "corr_table_firstyr = (firstyr_dataset.corr())\n",
    "\n",
    "#using np.triu() can help use get a triangle matrix so that the top half of the duplicated matrix is deleted\n",
    "matrix = np.triu(firstyr_dataset.corr())\n",
    "\n",
    "#print Matrix\n",
    "sn.heatmap(corr_table_firstyr, annot = True, vmin=-1, vmax=1, center= 0, cmap = \"coolwarm\",square = True, mask = matrix, ax=ax)\n",
    "plt.show()"
   ]
  },
  {
   "cell_type": "markdown",
   "metadata": {},
   "source": [
    "We identify that Crime Rate and Bars & Restaurants, are positively correlated with house prices. \n",
    "\n",
    "Surprisingly, the number of Schools in a borough decreases, the higher the house price. \n",
    "\n",
    "Oddly, the average transport zone variable is negatively correlated with house prices. As zones range from 1 to 6, we gather that more central boroughs closer have higher house prices.\n",
    "\n",
    "We  observe that the number of Schools in a borough is correlated with the amount of Healthcare Practices(0.81). An increase in Bars & Restaurants is correlated with a higher crime rate (0.9). Individuals living closer towards Central London (Zone 1), tend to have a higher salary (-0.61).\n",
    "\n",
    "Some of the information may sound intuitive, yet demonstrating the correlations add to the general understanding of how the variables interact.\n"
   ]
  },
  {
   "cell_type": "markdown",
   "metadata": {},
   "source": [
    "## Scenario"
   ]
  },
  {
   "cell_type": "markdown",
   "metadata": {},
   "source": [
    "One particular struggle, when looking for the right house, is finding the ideal area within a suitable range price. However, using the following function helps new home buyers understand  borough traits."
   ]
  },
  {
   "cell_type": "markdown",
   "metadata": {},
   "source": [
    "## House Price Finder\n",
    "\n",
    "To use this function, users must simply input the letter corresponding to their ideal price range. As a result, borough code,  name and prices within the range are presented.\n"
   ]
  },
  {
   "cell_type": "code",
   "execution_count": 32,
   "metadata": {},
   "outputs": [
    {
     "name": "stdout",
     "output_type": "stream",
     "text": [
      "Please indicate your desired house price range: \n",
      "    A: £280,000-£380,000.\n",
      "    B: £380,000-£480,000\n",
      "    C: £480,000-£750,000.\n",
      "    D: £750,000-£1,000,000.\n",
      "    E: more than £1,000,000.\n",
      "    A\n",
      "These are the suitable boroughs.\n"
     ]
    },
    {
     "data": {
      "text/html": [
       "<div>\n",
       "<style scoped>\n",
       "    .dataframe tbody tr th:only-of-type {\n",
       "        vertical-align: middle;\n",
       "    }\n",
       "\n",
       "    .dataframe tbody tr th {\n",
       "        vertical-align: top;\n",
       "    }\n",
       "\n",
       "    .dataframe thead th {\n",
       "        text-align: right;\n",
       "    }\n",
       "</style>\n",
       "<table border=\"1\" class=\"dataframe\">\n",
       "  <thead>\n",
       "    <tr style=\"text-align: right;\">\n",
       "      <th></th>\n",
       "      <th>Code</th>\n",
       "      <th>Area</th>\n",
       "      <th>House Price</th>\n",
       "    </tr>\n",
       "  </thead>\n",
       "  <tbody>\n",
       "    <tr>\n",
       "      <th>1</th>\n",
       "      <td>E09000002</td>\n",
       "      <td>BARKING AND DAGENHAM</td>\n",
       "      <td>287734</td>\n",
       "    </tr>\n",
       "    <tr>\n",
       "      <th>3</th>\n",
       "      <td>E09000004</td>\n",
       "      <td>BEXLEY</td>\n",
       "      <td>335694</td>\n",
       "    </tr>\n",
       "    <tr>\n",
       "      <th>7</th>\n",
       "      <td>E09000008</td>\n",
       "      <td>CROYDON</td>\n",
       "      <td>372554</td>\n",
       "    </tr>\n",
       "    <tr>\n",
       "      <th>15</th>\n",
       "      <td>E09000016</td>\n",
       "      <td>HAVERING</td>\n",
       "      <td>360479</td>\n",
       "    </tr>\n",
       "    <tr>\n",
       "      <th>24</th>\n",
       "      <td>E09000025</td>\n",
       "      <td>NEWHAM</td>\n",
       "      <td>362131</td>\n",
       "    </tr>\n",
       "    <tr>\n",
       "      <th>28</th>\n",
       "      <td>E09000029</td>\n",
       "      <td>SUTTON</td>\n",
       "      <td>376924</td>\n",
       "    </tr>\n",
       "  </tbody>\n",
       "</table>\n",
       "</div>"
      ],
      "text/plain": [
       "         Code                  Area  House Price\n",
       "1   E09000002  BARKING AND DAGENHAM       287734\n",
       "3   E09000004                BEXLEY       335694\n",
       "7   E09000008               CROYDON       372554\n",
       "15  E09000016              HAVERING       360479\n",
       "24  E09000025                NEWHAM       362131\n",
       "28  E09000029                SUTTON       376924"
      ]
     },
     "execution_count": 32,
     "metadata": {},
     "output_type": "execute_result"
    }
   ],
   "source": [
    "def house_price_finder():\n",
    "    desired_price=input(\"\"\"Please indicate your desired house price range: \n",
    "    A: £280,000-£380,000.\n",
    "    B: £380,000-£480,000\n",
    "    C: £480,000-£750,000.\n",
    "    D: £750,000-£1,000,000.\n",
    "    E: more than £1,000,000.\n",
    "    \"\"\") # Ask for customers' input as a letter option.\n",
    "    # in case customers enter lower-case letter.\n",
    "    desired_price=desired_price.upper()\n",
    "    # Below are the five scenarios and their output as a data frame\n",
    "    if desired_price==\"A\":\n",
    "        print (\"These are the suitable boroughs.\")\n",
    "        return lastyr_dataset.loc[lastyr_dataset[\"House Price\"].between(280000,380000),[\"Code\",\"Area\",\"House Price\"]]\n",
    "    elif desired_price==\"B\":\n",
    "        print (\"These are the suitable boroughs.\")\n",
    "        return lastyr_dataset.loc[lastyr_dataset[\"House Price\"].between(380000,480000),[\"Code\",\"Area\",\"House Price\"]]\n",
    "    elif desired_price==\"C\":\n",
    "        print (\"These are the suitable boroughs.\")\n",
    "        return lastyr_dataset.loc[lastyr_dataset[\"House Price\"].between(480000,750000),[\"Code\",\"Area\",\"House Price\"]]\n",
    "    elif desired_price==\"D\":\n",
    "        print (\"These are the suitable boroughs.\")\n",
    "        return lastyr_dataset.loc[lastyr_dataset[\"House Price\"].between(750000,1000000),[\"Code\",\"Area\",\"House Price\"]]\n",
    "    elif desired_price==\"E\":\n",
    "        print (\"These are the suitable boroughs.\")\n",
    "        return lastyr_dataset.loc[lastyr_dataset[\"House Price\"].between(1000000,1500000),[\"Code\",\"Area\",\"House Price\"]]\n",
    "    else: # if customers enter other letters or words\n",
    "        print(\"Please enter a valid option.\")\n",
    "\n",
    "house_price_finder()  # run the function"
   ]
  },
  {
   "cell_type": "markdown",
   "metadata": {},
   "source": [
    "From this list of house prices, users can choose their ideal orough and proceed."
   ]
  },
  {
   "cell_type": "markdown",
   "metadata": {},
   "source": [
    "## Borough Information Finder\n",
    "\n",
    "Having narrowed it down to boroughs of interest, we take a closer look by entering the corresponding borough code illustrated above.\n"
   ]
  },
  {
   "cell_type": "code",
   "execution_count": 33,
   "metadata": {},
   "outputs": [
    {
     "name": "stdout",
     "output_type": "stream",
     "text": [
      "Please Enter Borough Name: city of london\n"
     ]
    },
    {
     "data": {
      "text/html": [
       "<div>\n",
       "<style scoped>\n",
       "    .dataframe tbody tr th:only-of-type {\n",
       "        vertical-align: middle;\n",
       "    }\n",
       "\n",
       "    .dataframe tbody tr th {\n",
       "        vertical-align: top;\n",
       "    }\n",
       "\n",
       "    .dataframe thead th {\n",
       "        text-align: right;\n",
       "    }\n",
       "</style>\n",
       "<table border=\"1\" class=\"dataframe\">\n",
       "  <thead>\n",
       "    <tr style=\"text-align: right;\">\n",
       "      <th></th>\n",
       "      <th>0</th>\n",
       "    </tr>\n",
       "  </thead>\n",
       "  <tbody>\n",
       "    <tr>\n",
       "      <th>Code</th>\n",
       "      <td>E09000001</td>\n",
       "    </tr>\n",
       "    <tr>\n",
       "      <th>Area</th>\n",
       "      <td>CITY OF LONDON</td>\n",
       "    </tr>\n",
       "    <tr>\n",
       "      <th>House Price</th>\n",
       "      <td>849790</td>\n",
       "    </tr>\n",
       "    <tr>\n",
       "      <th>Crime Rates</th>\n",
       "      <td>92.2</td>\n",
       "    </tr>\n",
       "    <tr>\n",
       "      <th>Schools</th>\n",
       "      <td>5</td>\n",
       "    </tr>\n",
       "    <tr>\n",
       "      <th>Job Density</th>\n",
       "      <td>124.78</td>\n",
       "    </tr>\n",
       "    <tr>\n",
       "      <th>Annual Salary</th>\n",
       "      <td>57328.1</td>\n",
       "    </tr>\n",
       "    <tr>\n",
       "      <th>Bars and Restaurants</th>\n",
       "      <td>455</td>\n",
       "    </tr>\n",
       "    <tr>\n",
       "      <th>Healthcare Practices</th>\n",
       "      <td>2</td>\n",
       "    </tr>\n",
       "    <tr>\n",
       "      <th>Transport Stations</th>\n",
       "      <td>13</td>\n",
       "    </tr>\n",
       "    <tr>\n",
       "      <th>Average of Transport Zones</th>\n",
       "      <td>1</td>\n",
       "    </tr>\n",
       "  </tbody>\n",
       "</table>\n",
       "</div>"
      ],
      "text/plain": [
       "                                         0\n",
       "Code                             E09000001\n",
       "Area                        CITY OF LONDON\n",
       "House Price                         849790\n",
       "Crime Rates                           92.2\n",
       "Schools                                  5\n",
       "Job Density                         124.78\n",
       "Annual Salary                      57328.1\n",
       "Bars and Restaurants                   455\n",
       "Healthcare Practices                     2\n",
       "Transport Stations                      13\n",
       "Average of Transport Zones               1"
      ]
     },
     "execution_count": 33,
     "metadata": {},
     "output_type": "execute_result"
    }
   ],
   "source": [
    "def borough_information_finder():\n",
    "    prompt = input(\"Please Enter Borough Name: \") #asking for user's input\n",
    "    prompt=prompt.upper() # Change all input to upper case letter, because the area in final-year dataset are all in capital letter\n",
    "    # Change the area name into lower case letter and check if the input is in.\n",
    "    if prompt in str(lastyr_dataset[\"Area\"]): \n",
    "        # return the borough as a transposed data frame so it is easier for customer to view\n",
    "        return lastyr_dataset.loc[lastyr_dataset[\"Area\"]==prompt].T\n",
    "    else: # If customers enter other letters or words\n",
    "        print (\"Please enter a valid area name from the house price finder.\")\n",
    "borough_information_finder()"
   ]
  },
  {
   "cell_type": "markdown",
   "metadata": {},
   "source": [
    "As a result, users may use the customized table to check whether the borough satisfies their requirements.\n",
    "\n",
    "Now that our users established the key attributes their dream borough should have, they want to know more about future prices in the area and which attributes are the most important in determining that price. Let us have a look. \n"
   ]
  },
  {
   "cell_type": "markdown",
   "metadata": {},
   "source": [
    "# 4. Predictive Analysis"
   ]
  },
  {
   "cell_type": "markdown",
   "metadata": {},
   "source": [
    "## Regression Analysis"
   ]
  },
  {
   "cell_type": "markdown",
   "metadata": {},
   "source": [
    "Pooled-OLS model, one-way fixed-effect model (with entity-effect) and two-way fixed effects model (with both entity and time effects) are generated for our dataset. The dependent variable of the regression model is house price, and the independent variables are all time-variant variables.\n",
    "\n",
    "Since house prices take large values, a log dependent variable is created. We will use both house price and log house price as dependent variable for each model. Hence, six models will be generated. \n"
   ]
  },
  {
   "cell_type": "code",
   "execution_count": 34,
   "metadata": {
    "scrolled": true
   },
   "outputs": [
    {
     "data": {
      "text/html": [
       "<div>\n",
       "<style scoped>\n",
       "    .dataframe tbody tr th:only-of-type {\n",
       "        vertical-align: middle;\n",
       "    }\n",
       "\n",
       "    .dataframe tbody tr th {\n",
       "        vertical-align: top;\n",
       "    }\n",
       "\n",
       "    .dataframe thead th {\n",
       "        text-align: right;\n",
       "    }\n",
       "</style>\n",
       "<table border=\"1\" class=\"dataframe\">\n",
       "  <thead>\n",
       "    <tr style=\"text-align: right;\">\n",
       "      <th></th>\n",
       "      <th></th>\n",
       "      <th>Area</th>\n",
       "      <th>House Price</th>\n",
       "      <th>Crime Rates</th>\n",
       "      <th>Schools</th>\n",
       "      <th>Job Density</th>\n",
       "      <th>Annual Salary</th>\n",
       "      <th>Bars and Restaurants</th>\n",
       "      <th>log_HousePrice</th>\n",
       "    </tr>\n",
       "    <tr>\n",
       "      <th>Code</th>\n",
       "      <th>Year</th>\n",
       "      <th></th>\n",
       "      <th></th>\n",
       "      <th></th>\n",
       "      <th></th>\n",
       "      <th></th>\n",
       "      <th></th>\n",
       "      <th></th>\n",
       "      <th></th>\n",
       "    </tr>\n",
       "  </thead>\n",
       "  <tbody>\n",
       "    <tr>\n",
       "      <th rowspan=\"5\" valign=\"top\">E09000001</th>\n",
       "      <th>2011</th>\n",
       "      <td>CITY OF LONDON</td>\n",
       "      <td>463930</td>\n",
       "      <td>90.6</td>\n",
       "      <td>5</td>\n",
       "      <td>75.79</td>\n",
       "      <td>52358.800000</td>\n",
       "      <td>365.0</td>\n",
       "      <td>13.047489</td>\n",
       "    </tr>\n",
       "    <tr>\n",
       "      <th>2012</th>\n",
       "      <td>CITY OF LONDON</td>\n",
       "      <td>525327</td>\n",
       "      <td>85.8</td>\n",
       "      <td>5</td>\n",
       "      <td>92.41</td>\n",
       "      <td>52379.993605</td>\n",
       "      <td>370.0</td>\n",
       "      <td>13.171776</td>\n",
       "    </tr>\n",
       "    <tr>\n",
       "      <th>2013</th>\n",
       "      <td>CITY OF LONDON</td>\n",
       "      <td>570008</td>\n",
       "      <td>77.9</td>\n",
       "      <td>5</td>\n",
       "      <td>110.98</td>\n",
       "      <td>55510.309047</td>\n",
       "      <td>385.0</td>\n",
       "      <td>13.253406</td>\n",
       "    </tr>\n",
       "    <tr>\n",
       "      <th>2014</th>\n",
       "      <td>CITY OF LONDON</td>\n",
       "      <td>709385</td>\n",
       "      <td>85.5</td>\n",
       "      <td>5</td>\n",
       "      <td>121.23</td>\n",
       "      <td>55514.808380</td>\n",
       "      <td>415.0</td>\n",
       "      <td>13.472154</td>\n",
       "    </tr>\n",
       "    <tr>\n",
       "      <th>2015</th>\n",
       "      <td>CITY OF LONDON</td>\n",
       "      <td>760253</td>\n",
       "      <td>82.4</td>\n",
       "      <td>5</td>\n",
       "      <td>121.73</td>\n",
       "      <td>55889.369644</td>\n",
       "      <td>420.0</td>\n",
       "      <td>13.541407</td>\n",
       "    </tr>\n",
       "  </tbody>\n",
       "</table>\n",
       "</div>"
      ],
      "text/plain": [
       "                          Area  House Price  Crime Rates  Schools  \\\n",
       "Code      Year                                                      \n",
       "E09000001 2011  CITY OF LONDON       463930         90.6        5   \n",
       "          2012  CITY OF LONDON       525327         85.8        5   \n",
       "          2013  CITY OF LONDON       570008         77.9        5   \n",
       "          2014  CITY OF LONDON       709385         85.5        5   \n",
       "          2015  CITY OF LONDON       760253         82.4        5   \n",
       "\n",
       "                Job Density  Annual Salary  Bars and Restaurants  \\\n",
       "Code      Year                                                     \n",
       "E09000001 2011        75.79   52358.800000                 365.0   \n",
       "          2012        92.41   52379.993605                 370.0   \n",
       "          2013       110.98   55510.309047                 385.0   \n",
       "          2014       121.23   55514.808380                 415.0   \n",
       "          2015       121.73   55889.369644                 420.0   \n",
       "\n",
       "                log_HousePrice  \n",
       "Code      Year                  \n",
       "E09000001 2011       13.047489  \n",
       "          2012       13.171776  \n",
       "          2013       13.253406  \n",
       "          2014       13.472154  \n",
       "          2015       13.541407  "
      ]
     },
     "execution_count": 34,
     "metadata": {},
     "output_type": "execute_result"
    }
   ],
   "source": [
    "#  Set code and year as index, prepared for regression analysis\n",
    "regression_df=final_dataset.set_index([\"Code\",\"Year\"])\n",
    "\n",
    "#log(House Price) is created\n",
    "regression_df[\"log_HousePrice\"]=np.log(regression_df[\"House Price\"])\n",
    "regression_df.head()\n",
    "\n",
    "# Prepare Independent Variables for convenience and add a constant\n",
    "x=regression_df[[\"Schools\",\"Bars and Restaurants\",\"Crime Rates\",\"Job Density\",\"Annual Salary\"]]\n",
    "x=sm.add_constant(x)"
   ]
  },
  {
   "cell_type": "code",
   "execution_count": 35,
   "metadata": {},
   "outputs": [],
   "source": [
    "# 1 Pooled OLS\n",
    "  # 1.1 linear OLS\n",
    "OLS_1 = PooledOLS(regression_df[\"House Price\"], x)\n",
    "OLS_linear=OLS_1.fit()\n",
    "  # 1.2 log-lin OLS\n",
    "OLS_2 = PooledOLS(regression_df[\"log_HousePrice\"], x)\n",
    "OLS_log=OLS_2.fit()\n",
    "\n",
    "# 2 Area-FE model (include only entity effect)\n",
    "  # 2.1 Linear Area-FE\n",
    "FE_area1 = PanelOLS(regression_df[\"House Price\"],x,entity_effects=True,time_effects=False)\n",
    "FE_area_linear = FE_area1.fit(cov_type=\"robust\")\n",
    "  # 2.2 log Area-FE\n",
    "FE_area2 = PanelOLS(regression_df[\"log_HousePrice\"],x,entity_effects=True,time_effects=False)\n",
    "FE_area_log = FE_area2.fit(cov_type=\"robust\")\n",
    "\n",
    "# 3 Two way fixed effects\n",
    " # 3.1 Linear Version\n",
    "FE2_1 = PanelOLS(regression_df[\"House Price\"],x,entity_effects=True,time_effects=True)\n",
    "FE_2way_linear = FE2_1.fit(cov_type=\"robust\")\n",
    " #3.2 Log version FE-two way\n",
    "FE2_1 = PanelOLS(regression_df[\"log_HousePrice\"],x,entity_effects=True,time_effects=True)\n",
    "FE_2way_log = FE2_1.fit(cov_type=\"robust\")"
   ]
  },
  {
   "cell_type": "code",
   "execution_count": 36,
   "metadata": {},
   "outputs": [
    {
     "name": "stdout",
     "output_type": "stream",
     "text": [
      "                            Model Comparison                            \n",
      "========================================================================\n",
      "                              OLS-linear       FE-oneway       FE-twoway\n",
      "------------------------------------------------------------------------\n",
      "Dep. Variable                House Price     House Price     House Price\n",
      "Estimator                      PooledOLS        PanelOLS        PanelOLS\n",
      "No. Observations                     231             231             231\n",
      "Cov. Est.                     Unadjusted          Robust          Robust\n",
      "R-squared                         0.6439          0.7169          0.4448\n",
      "R-Squared (Within)                0.1612          0.7169          0.3235\n",
      "R-Squared (Between)               0.7303         -0.5251          0.0461\n",
      "R-Squared (Overall)               0.6439         -0.3364          0.0883\n",
      "F-statistic                       81.353          97.747          29.962\n",
      "P-value (F-stat)                  0.0000          0.0000          0.0000\n",
      "======================     =============   =============   =============\n",
      "const                         -6.851e+05      -6.253e+05       7.082e+05\n",
      "                               (-5.6243)       (-2.1926)        (3.0933)\n",
      "Schools                          -307.63          7229.5          216.77\n",
      "                               (-0.7463)        (4.3389)        (0.2269)\n",
      "Bars and Restaurants              204.30          884.35          320.61\n",
      "                                (2.9920)        (3.7813)        (3.3282)\n",
      "Crime Rates                       321.28         -2759.9         -1381.5\n",
      "                                (0.6997)       (-5.9658)       (-5.5374)\n",
      "Job Density                      -4488.8          5037.3          4525.3\n",
      "                               (-6.0549)        (4.5186)        (7.8500)\n",
      "Annual Salary                     32.047          9.2113         -8.9268\n",
      "                                (10.477)        (1.2750)       (-1.7111)\n",
      "======================== =============== =============== ===============\n",
      "Effects                                           Entity          Entity\n",
      "                                                                    Time\n",
      "------------------------------------------------------------------------\n",
      "\n",
      "T-stats reported in parentheses\n"
     ]
    }
   ],
   "source": [
    "# linear model comparision\n",
    "print(compare({'OLS-linear':OLS_linear,'FE-oneway':FE_area_linear,'FE-twoway':FE_2way_linear}))"
   ]
  },
  {
   "cell_type": "code",
   "execution_count": 37,
   "metadata": {},
   "outputs": [
    {
     "name": "stdout",
     "output_type": "stream",
     "text": [
      "                                 Model Comparison                                \n",
      "=================================================================================\n",
      "                                    OLS-log      FE-oneway-log      FE-twoway-log\n",
      "---------------------------------------------------------------------------------\n",
      "Dep. Variable                log_HousePrice     log_HousePrice     log_HousePrice\n",
      "Estimator                         PooledOLS           PanelOLS           PanelOLS\n",
      "No. Observations                        231                231                231\n",
      "Cov. Est.                        Unadjusted             Robust             Robust\n",
      "R-squared                            0.6533             0.6334             0.0386\n",
      "R-Squared (Within)                   0.3410             0.6334            -0.0129\n",
      "R-Squared (Between)                  0.7365            -1.0353             0.1065\n",
      "R-Squared (Overall)                  0.6533            -0.6839             0.0814\n",
      "F-statistic                          84.778             66.682             1.5011\n",
      "P-value (F-stat)                     0.0000             0.0000             0.1914\n",
      "======================     ================   ================   ================\n",
      "const                                10.614             9.2613             12.885\n",
      "                                   (45.046)           (15.399)           (62.649)\n",
      "Schools                              0.0003             0.0198            -0.0007\n",
      "                                   (0.4265)           (4.4236)          (-0.4665)\n",
      "Bars and Restaurants                 0.0005             0.0014          1.125e-06\n",
      "                                   (3.6189)           (2.6563)           (0.0059)\n",
      "Crime Rates                         -0.0005            -0.0046             0.0003\n",
      "                                  (-0.5399)          (-3.5800)           (0.6073)\n",
      "Job Density                         -0.0081             0.0047             0.0020\n",
      "                                  (-5.6618)           (2.9301)           (3.0169)\n",
      "Annual Salary                     6.455e-05          5.009e-05          1.221e-06\n",
      "                                   (10.912)           (3.9229)           (0.2872)\n",
      "======================== ================== ================== ==================\n",
      "Effects                                                 Entity             Entity\n",
      "                                                                             Time\n",
      "---------------------------------------------------------------------------------\n",
      "\n",
      "T-stats reported in parentheses\n"
     ]
    }
   ],
   "source": [
    "# log-lin model comparision\n",
    "print(compare({'OLS-log':OLS_log,'FE-oneway-log':FE_area_log,'FE-twoway-log':FE_2way_log}))"
   ]
  },
  {
   "cell_type": "markdown",
   "metadata": {},
   "source": [
    "The first table shows the linear function form models, while the second table shows the log-log models. It does not become clear  which dependent variable we shall use, as most of them are statistically significant with similar R2. A Pearson’s coefficient is calculated to check the skewness of the house price."
   ]
  },
  {
   "cell_type": "code",
   "execution_count": 38,
   "metadata": {},
   "outputs": [
    {
     "data": {
      "text/plain": [
       "11.465027368658653"
      ]
     },
     "execution_count": 38,
     "metadata": {},
     "output_type": "execute_result"
    }
   ],
   "source": [
    "# calculate Pearson’s coefficient for House price, to determine if we should use the log-version or not\n",
    "house_price_skewness=regression_df[\"House Price\"].describe().astype(int)\n",
    "Persons_coefficient=3*(house_price_skewness[\"mean\"]+house_price_skewness[\"50%\"])/house_price_skewness[\"std\"]\n",
    "Persons_coefficient "
   ]
  },
  {
   "cell_type": "markdown",
   "metadata": {},
   "source": [
    "Results suggest \"House Price\" is positively skewed. We shall use the log dependent variable. FE-twoway-log has an insignificant F-value, implying the model is insignificant overall, potentially because OLS contains insignificant variables.\n",
    "\n",
    "Our best model is the one-way FE."
   ]
  },
  {
   "cell_type": "code",
   "execution_count": 39,
   "metadata": {},
   "outputs": [
    {
     "name": "stdout",
     "output_type": "stream",
     "text": [
      "                          PanelOLS Estimation Summary                           \n",
      "================================================================================\n",
      "Dep. Variable:         log_HousePrice   R-squared:                        0.6334\n",
      "Estimator:                   PanelOLS   R-squared (Between):             -1.0353\n",
      "No. Observations:                 231   R-squared (Within):               0.6334\n",
      "Date:                Mon, Dec 14 2020   R-squared (Overall):             -0.6839\n",
      "Time:                        23:37:24   Log-likelihood                    170.70\n",
      "Cov. Estimator:                Robust                                           \n",
      "                                        F-statistic:                      66.682\n",
      "Entities:                          33   P-value                           0.0000\n",
      "Avg Obs:                       7.0000   Distribution:                   F(5,193)\n",
      "Min Obs:                       7.0000                                           \n",
      "Max Obs:                       7.0000   F-statistic (robust):             101.41\n",
      "                                        P-value                           0.0000\n",
      "Time periods:                       7   Distribution:                   F(5,193)\n",
      "Avg Obs:                       33.000                                           \n",
      "Min Obs:                       33.000                                           \n",
      "Max Obs:                       33.000                                           \n",
      "                                                                                \n",
      "                                  Parameter Estimates                                   \n",
      "========================================================================================\n",
      "                      Parameter  Std. Err.     T-stat    P-value    Lower CI    Upper CI\n",
      "----------------------------------------------------------------------------------------\n",
      "const                    9.2613     0.6014     15.399     0.0000      8.0751      10.447\n",
      "Schools                  0.0198     0.0045     4.4236     0.0000      0.0110      0.0287\n",
      "Bars and Restaurants     0.0014     0.0005     2.6563     0.0086      0.0004      0.0025\n",
      "Crime Rates             -0.0046     0.0013    -3.5800     0.0004     -0.0072     -0.0021\n",
      "Job Density              0.0047     0.0016     2.9301     0.0038      0.0015      0.0078\n",
      "Annual Salary         5.009e-05  1.277e-05     3.9229     0.0001   2.491e-05   7.528e-05\n",
      "========================================================================================\n",
      "\n",
      "F-test for Poolability: 21.058\n",
      "P-value: 0.0000\n",
      "Distribution: F(32,193)\n",
      "\n",
      "Included effects: Entity\n"
     ]
    }
   ],
   "source": [
    "print(FE_area_log)"
   ]
  },
  {
   "cell_type": "markdown",
   "metadata": {},
   "source": [
    "This model captures 63.34% of the dependent variable's variation.\n",
    "\n",
    "If number of schools and number of leisure places increases by 1, house prices increase by 1.98% and 0.14% respectively. If crime rates (%) increase by 1%, house prices decrease by 0.46%. A 1 unit increase in job density (job availability/population), results in a 0.47% increase in prices. If a borough's average annual salary increases by £1,000, the borough's house prices increase by 5.009%.\n",
    "\n",
    "The coefficients are statistically significant and signs are consistent with expectations and economic theories. The magnitude of change shows that annual salary (in £1,000) is the most important factor influencing house price."
   ]
  },
  {
   "cell_type": "markdown",
   "metadata": {},
   "source": [
    "## Machine Learning Analysis"
   ]
  },
  {
   "cell_type": "markdown",
   "metadata": {},
   "source": [
    "We would now like to use some our data to train and test the following models:\n",
    "1. XGBoost\n",
    "2. LightGBM\n",
    "3. Random forest\n",
    "\n",
    "\n",
    "By comparing the models we hope to find the model making the most accurate predictions.\n",
    "When training the model, we assign and modify the parameters of various models repeatedly to achieve greater accuracy,\n",
    "Overall, we aim to derive the following results: \n",
    "A comparison of all feature importance diagrams including a ranking on the average of importance in predicting house prices\n",
    "Three trained models including descriptive information (r2_score, mean_absolute_error, mean_squared_error).\n",
    "An overall comparison of different models and their respective outcomes.\n",
    "House price predictions\n",
    " \n"
   ]
  },
  {
   "cell_type": "code",
   "execution_count": 40,
   "metadata": {},
   "outputs": [
    {
     "data": {
      "text/html": [
       "<div>\n",
       "<style scoped>\n",
       "    .dataframe tbody tr th:only-of-type {\n",
       "        vertical-align: middle;\n",
       "    }\n",
       "\n",
       "    .dataframe tbody tr th {\n",
       "        vertical-align: top;\n",
       "    }\n",
       "\n",
       "    .dataframe thead th {\n",
       "        text-align: right;\n",
       "    }\n",
       "</style>\n",
       "<table border=\"1\" class=\"dataframe\">\n",
       "  <thead>\n",
       "    <tr style=\"text-align: right;\">\n",
       "      <th></th>\n",
       "      <th>Year</th>\n",
       "      <th>House Price</th>\n",
       "      <th>Crime Rates</th>\n",
       "      <th>Schools</th>\n",
       "      <th>Job Density</th>\n",
       "      <th>Annual Salary</th>\n",
       "      <th>Bars and Restaurants</th>\n",
       "    </tr>\n",
       "  </thead>\n",
       "  <tbody>\n",
       "    <tr>\n",
       "      <th>0</th>\n",
       "      <td>2011</td>\n",
       "      <td>463930</td>\n",
       "      <td>90.6</td>\n",
       "      <td>5</td>\n",
       "      <td>75.79</td>\n",
       "      <td>52358.800000</td>\n",
       "      <td>365.0</td>\n",
       "    </tr>\n",
       "    <tr>\n",
       "      <th>1</th>\n",
       "      <td>2012</td>\n",
       "      <td>525327</td>\n",
       "      <td>85.8</td>\n",
       "      <td>5</td>\n",
       "      <td>92.41</td>\n",
       "      <td>52379.993605</td>\n",
       "      <td>370.0</td>\n",
       "    </tr>\n",
       "    <tr>\n",
       "      <th>2</th>\n",
       "      <td>2013</td>\n",
       "      <td>570008</td>\n",
       "      <td>77.9</td>\n",
       "      <td>5</td>\n",
       "      <td>110.98</td>\n",
       "      <td>55510.309047</td>\n",
       "      <td>385.0</td>\n",
       "    </tr>\n",
       "    <tr>\n",
       "      <th>3</th>\n",
       "      <td>2014</td>\n",
       "      <td>709385</td>\n",
       "      <td>85.5</td>\n",
       "      <td>5</td>\n",
       "      <td>121.23</td>\n",
       "      <td>55514.808380</td>\n",
       "      <td>415.0</td>\n",
       "    </tr>\n",
       "    <tr>\n",
       "      <th>4</th>\n",
       "      <td>2015</td>\n",
       "      <td>760253</td>\n",
       "      <td>82.4</td>\n",
       "      <td>5</td>\n",
       "      <td>121.73</td>\n",
       "      <td>55889.369644</td>\n",
       "      <td>420.0</td>\n",
       "    </tr>\n",
       "  </tbody>\n",
       "</table>\n",
       "</div>"
      ],
      "text/plain": [
       "   Year  House Price  Crime Rates  Schools  Job Density  Annual Salary  \\\n",
       "0  2011       463930         90.6        5        75.79   52358.800000   \n",
       "1  2012       525327         85.8        5        92.41   52379.993605   \n",
       "2  2013       570008         77.9        5       110.98   55510.309047   \n",
       "3  2014       709385         85.5        5       121.23   55514.808380   \n",
       "4  2015       760253         82.4        5       121.73   55889.369644   \n",
       "\n",
       "   Bars and Restaurants  \n",
       "0                 365.0  \n",
       "1                 370.0  \n",
       "2                 385.0  \n",
       "3                 415.0  \n",
       "4                 420.0  "
      ]
     },
     "execution_count": 40,
     "metadata": {},
     "output_type": "execute_result"
    }
   ],
   "source": [
    "# read the final dataset and drop the 'Area' and 'Code' columns because it is 'string' data\n",
    "Final_dataset_df = pd.DataFrame(final_dataset)\n",
    "Final_dataset_df.drop(['Area','Code'],axis = 1,inplace = True)\n",
    "# show the first five rows to check results we get. \n",
    "Final_dataset_df.head()"
   ]
  },
  {
   "cell_type": "markdown",
   "metadata": {},
   "source": [
    "### Retrieve Variable Importance ###"
   ]
  },
  {
   "cell_type": "markdown",
   "metadata": {},
   "source": [
    "Now, we randomly assign our data to two parts, a training and a testing dataset, using train_test_split. We exclude 'House Price' in the train set, while the target set includes  'House Price'."
   ]
  },
  {
   "cell_type": "code",
   "execution_count": 41,
   "metadata": {},
   "outputs": [
    {
     "data": {
      "text/html": [
       "<div>\n",
       "<style scoped>\n",
       "    .dataframe tbody tr th:only-of-type {\n",
       "        vertical-align: middle;\n",
       "    }\n",
       "\n",
       "    .dataframe tbody tr th {\n",
       "        vertical-align: top;\n",
       "    }\n",
       "\n",
       "    .dataframe thead th {\n",
       "        text-align: right;\n",
       "    }\n",
       "</style>\n",
       "<table border=\"1\" class=\"dataframe\">\n",
       "  <thead>\n",
       "    <tr style=\"text-align: right;\">\n",
       "      <th></th>\n",
       "      <th>Year</th>\n",
       "      <th>Crime Rates</th>\n",
       "      <th>Schools</th>\n",
       "      <th>Job Density</th>\n",
       "      <th>Annual Salary</th>\n",
       "      <th>Bars and Restaurants</th>\n",
       "    </tr>\n",
       "  </thead>\n",
       "  <tbody>\n",
       "    <tr>\n",
       "      <th>0</th>\n",
       "      <td>2011</td>\n",
       "      <td>90.6</td>\n",
       "      <td>5</td>\n",
       "      <td>75.79</td>\n",
       "      <td>52358.800000</td>\n",
       "      <td>365.0</td>\n",
       "    </tr>\n",
       "    <tr>\n",
       "      <th>1</th>\n",
       "      <td>2012</td>\n",
       "      <td>85.8</td>\n",
       "      <td>5</td>\n",
       "      <td>92.41</td>\n",
       "      <td>52379.993605</td>\n",
       "      <td>370.0</td>\n",
       "    </tr>\n",
       "    <tr>\n",
       "      <th>2</th>\n",
       "      <td>2013</td>\n",
       "      <td>77.9</td>\n",
       "      <td>5</td>\n",
       "      <td>110.98</td>\n",
       "      <td>55510.309047</td>\n",
       "      <td>385.0</td>\n",
       "    </tr>\n",
       "    <tr>\n",
       "      <th>3</th>\n",
       "      <td>2014</td>\n",
       "      <td>85.5</td>\n",
       "      <td>5</td>\n",
       "      <td>121.23</td>\n",
       "      <td>55514.808380</td>\n",
       "      <td>415.0</td>\n",
       "    </tr>\n",
       "    <tr>\n",
       "      <th>4</th>\n",
       "      <td>2015</td>\n",
       "      <td>82.4</td>\n",
       "      <td>5</td>\n",
       "      <td>121.73</td>\n",
       "      <td>55889.369644</td>\n",
       "      <td>420.0</td>\n",
       "    </tr>\n",
       "  </tbody>\n",
       "</table>\n",
       "</div>"
      ],
      "text/plain": [
       "   Year  Crime Rates  Schools  Job Density  Annual Salary  \\\n",
       "0  2011         90.6        5        75.79   52358.800000   \n",
       "1  2012         85.8        5        92.41   52379.993605   \n",
       "2  2013         77.9        5       110.98   55510.309047   \n",
       "3  2014         85.5        5       121.23   55514.808380   \n",
       "4  2015         82.4        5       121.73   55889.369644   \n",
       "\n",
       "   Bars and Restaurants  \n",
       "0                 365.0  \n",
       "1                 370.0  \n",
       "2                 385.0  \n",
       "3                 415.0  \n",
       "4                 420.0  "
      ]
     },
     "execution_count": 41,
     "metadata": {},
     "output_type": "execute_result"
    }
   ],
   "source": [
    "train_fe = Final_dataset_df.copy() \n",
    "target_fe = train_fe['House Price']\n",
    "del train_fe['House Price']\n",
    "train_fe.head()\n",
    "X = train_fe\n",
    "z = target_fe\n",
    "\n",
    "# in train_test_split function, first parameter is your train dataset, the second one is your target dataset.\n",
    "# test_size means the proportion of test dataset\n",
    "# random_state is a random seed to ensure we can get the same dataset by spliting.\n",
    "Xtrain, Xval, Ztrain, Zval = train_test_split(X, z, test_size=0.2, random_state=0)\n",
    "\n",
    "# lgb.Dataset() is to specific feature names and categorical features:\n",
    "# Note: we should convert your categorical features to 'int' type before we construct Dataset.\n",
    "\n",
    "train_set = lgb.Dataset(Xtrain, Ztrain, silent=False)\n",
    "valid_set = lgb.Dataset(Xval, Zval, silent=False)"
   ]
  },
  {
   "cell_type": "markdown",
   "metadata": {},
   "source": [
    "Next, we will use LightGBM to get the importance of each variable for our House Price. LightGBM is a gradient boosting framework that uses tree based learning algorithms, greatly reducing the time complexity of processing samples, without losing accuracy.\n",
    "\n",
    "Parameters retrieved here: https://lightgbm.readthedocs.io/en/latest/pythonapi/lightgbm.LGBMRegressor.html"
   ]
  },
  {
   "cell_type": "code",
   "execution_count": 42,
   "metadata": {},
   "outputs": [],
   "source": [
    "%%capture \n",
    "# hide the process of running because there will be too wordy and lengthy if we show it.\n",
    "params = {\n",
    "        'boosting_type':'gbdt',  # Gradient Boosting Decision Tree\n",
    "        'objective': 'regression',# regression , if we want to make classification we need to use 'binary'\n",
    "        'num_leaves': 31, # number of leaves for one tree\n",
    "        'learning_rate': 0.05, # learning rate in machine learning, like a speed!\n",
    "        'max_depth': -1, # default to '-1' which means that we do not limit its depth, the greater the depth, the possible overfitting\n",
    "        'subsample': 0.8, # sample size\n",
    "        'bagging_fraction' : 1, # if our data is small, 1 will be better!\n",
    "        'max_bin' : 5000 , #Feature maximum segmentation\n",
    "        'bagging_freq': 20, # it is default to '0',It means bagging once every 20 iterations\n",
    "        'colsample_bytree': 0.6,\n",
    "        'metric': 'rmse',\n",
    "        'min_split_gain': 0.5,\n",
    "        'min_child_weight': 1, # Minimum sum of hessians in one leaf to allow a split. Higher values potentially decrease overfitting\n",
    "        'min_child_samples': 10,#Setting it larger can avoid generating a tree that is too deep, but it may cause underfitting\n",
    "        'scale_pos_weight':1,\n",
    "        'zero_as_missing': True,\n",
    "        'seed':0,        \n",
    "    }\n",
    "\n",
    "modelL = lgb.train(params, train_set = train_set, num_boost_round=1000,\n",
    "                   early_stopping_rounds=50,verbose_eval=100, valid_sets=valid_set)"
   ]
  },
  {
   "cell_type": "code",
   "execution_count": 43,
   "metadata": {
    "scrolled": true
   },
   "outputs": [
    {
     "data": {
      "text/plain": [
       "<matplotlib.axes._subplots.AxesSubplot at 0x7f05898f8610>"
      ]
     },
     "execution_count": 43,
     "metadata": {},
     "output_type": "execute_result"
    },
    {
     "data": {
      "image/png": "[encoded data removed]",
      "text/plain": [
       "<Figure size 1080x1080 with 1 Axes>"
      ]
     },
     "metadata": {
      "needs_background": "light"
     },
     "output_type": "display_data"
    }
   ],
   "source": [
    "# use matplotlib and plot with lgb to show their importance by bar chart.\n",
    "fig =  plt.figure(figsize = (15,15))\n",
    "axes = fig.add_subplot(111)\n",
    "lgb.plot_importance(modelL,ax = axes,height = 0.5)\n",
    "plt.show();plt.close()"
   ]
  },
  {
   "cell_type": "markdown",
   "metadata": {},
   "source": [
    "The graph above implies, according to the LightGBM model, annual salary is the most important varibale in determining House Price, while 'Year' and 'Bars and Restaurants' are least important."
   ]
  },
  {
   "cell_type": "code",
   "execution_count": 44,
   "metadata": {},
   "outputs": [],
   "source": [
    "# create a dataframe to save our outcome in one column named 'score_lgb'.\n",
    "feature_score = pd.DataFrame(train_fe.columns, columns = ['feature']) \n",
    "feature_score['score_lgb'] = modelL.feature_importance()"
   ]
  },
  {
   "cell_type": "markdown",
   "metadata": {},
   "source": [
    "XGBoost is an implementation of the Gradient Boosting Decision Tree (GBDT). "
   ]
  },
  {
   "cell_type": "markdown",
   "metadata": {},
   "source": [
    "Continuously add trees, and perform feature splitting to grow our tree. Each time we add a tree, we are actually learning a new function f(x) to fit the residual of the last prediction. Once finished, we must predict the score of a sample. \n",
    "\n",
    "In fact, according to the characteristics of this sample, each tree will fall to a \n",
    "corresponding leaf node, which corresponds to a score.\n",
    "\n",
    "In the end, we add up the scores corresponding to each tree to retrieve the predicted value of the sample."
   ]
  },
  {
   "cell_type": "markdown",
   "metadata": {},
   "source": [
    "Parameters retrieved here: https://xgboost.readthedocs.io/en/latest/python/index.html"
   ]
  },
  {
   "cell_type": "code",
   "execution_count": 45,
   "metadata": {},
   "outputs": [],
   "source": [
    "# split training set to validation set \n",
    "# assgin our data to the xgb matirx because xgboost requrie the input is a matrix type.\n",
    "data_tr  = xgb.DMatrix(Xtrain, label=Ztrain)\n",
    "data_cv  = xgb.DMatrix(Xval , label=Zval)\n",
    "evallist = [(data_tr, 'train'), (data_cv, 'valid')]"
   ]
  },
  {
   "cell_type": "code",
   "execution_count": 46,
   "metadata": {},
   "outputs": [],
   "source": [
    "%%capture\n",
    "parms = {'max_depth':8, #maximum depth of a tree\n",
    "         'objective':'reg:squarederror', # regression type\n",
    "         'eta'      :0.3,\n",
    "         'subsample':0.8,#SGD will use this percentage of data\n",
    "         'lambda '  :4, #L2 regularization term,>1 more conservative \n",
    "         'colsample_bytree ':0.9,\n",
    "         'colsample_bylevel':1,\n",
    "         'min_child_weight': 10}\n",
    "modelx = xgb.train(parms, data_tr, num_boost_round=200, evals = evallist,\n",
    "                  early_stopping_rounds=30, maximize=False, \n",
    "                  verbose_eval=10)\n",
    "\n",
    "print('score = %1.5f, n_boost_round =%d.'%(modelx.best_score,modelx.best_iteration))"
   ]
  },
  {
   "cell_type": "code",
   "execution_count": 47,
   "metadata": {},
   "outputs": [
    {
     "data": {
      "text/plain": [
       "<matplotlib.axes._subplots.AxesSubplot at 0x7f0589a0d6d0>"
      ]
     },
     "execution_count": 47,
     "metadata": {},
     "output_type": "execute_result"
    },
    {
     "data": {
      "image/png": "[encoded data removed]",
      "text/plain": [
       "<Figure size 1080x1080 with 1 Axes>"
      ]
     },
     "metadata": {
      "needs_background": "light"
     },
     "output_type": "display_data"
    }
   ],
   "source": [
    "# use matplotlib and plot with xgb to show their importance by bar chart.\n",
    "fig =  plt.figure(figsize = (15,15))\n",
    "axes = fig.add_subplot(111)\n",
    "xgb.plot_importance(modelx,ax = axes,height = 0.5)\n",
    "plt.show();plt.close()"
   ]
  },
  {
   "cell_type": "markdown",
   "metadata": {},
   "source": [
    "The graph illustrates that annually salary remains the most important variable, while ‘Schools’ has lost in importance. Additionally, the importance of 'Job Density' and 'Bars and Restaurants' increased greatly due to the different gradient method in different models."
   ]
  },
  {
   "cell_type": "code",
   "execution_count": 48,
   "metadata": {},
   "outputs": [],
   "source": [
    "# create a dataframe to save our outcome in one column named 'score_xgb'.\n",
    "feature_score['score_xgb'] = feature_score['feature'].map(modelx.get_score(importance_type='weight'))"
   ]
  },
  {
   "cell_type": "markdown",
   "metadata": {},
   "source": [
    "Next, we will run a logistic regression, analysing the variables’ coefficients to derive importance. However,  we must retrieve  results after standardizing, due to the variables differing scales."
   ]
  },
  {
   "cell_type": "code",
   "execution_count": 49,
   "metadata": {},
   "outputs": [],
   "source": [
    "# Standardization for regression model and generate a dataframe for our logistic regression \n",
    "train_fe = pd.DataFrame(\n",
    "    preprocessing.MinMaxScaler().fit_transform(train_fe),\n",
    "    columns=train_fe.columns,\n",
    "    index=train_fe.index)\n",
    "\n"
   ]
  },
  {
   "cell_type": "code",
   "execution_count": 50,
   "metadata": {},
   "outputs": [
    {
     "data": {
      "text/plain": [
       "LogisticRegression()"
      ]
     },
     "execution_count": 50,
     "metadata": {},
     "output_type": "execute_result"
    },
    {
     "data": {
      "text/html": [
       "<div>\n",
       "<style scoped>\n",
       "    .dataframe tbody tr th:only-of-type {\n",
       "        vertical-align: middle;\n",
       "    }\n",
       "\n",
       "    .dataframe tbody tr th {\n",
       "        vertical-align: top;\n",
       "    }\n",
       "\n",
       "    .dataframe thead th {\n",
       "        text-align: right;\n",
       "    }\n",
       "</style>\n",
       "<table border=\"1\" class=\"dataframe\">\n",
       "  <thead>\n",
       "    <tr style=\"text-align: right;\">\n",
       "      <th></th>\n",
       "      <th>feature</th>\n",
       "      <th>score_logreg</th>\n",
       "    </tr>\n",
       "  </thead>\n",
       "  <tbody>\n",
       "    <tr>\n",
       "      <th>1</th>\n",
       "      <td>Schools</td>\n",
       "      <td>0.058646</td>\n",
       "    </tr>\n",
       "    <tr>\n",
       "      <th>3</th>\n",
       "      <td>Annual Salary</td>\n",
       "      <td>-0.026421</td>\n",
       "    </tr>\n",
       "    <tr>\n",
       "      <th>2</th>\n",
       "      <td>Job Density</td>\n",
       "      <td>-0.214256</td>\n",
       "    </tr>\n",
       "    <tr>\n",
       "      <th>4</th>\n",
       "      <td>Bars and Restaurants</td>\n",
       "      <td>-0.228347</td>\n",
       "    </tr>\n",
       "    <tr>\n",
       "      <th>0</th>\n",
       "      <td>Crime Rates</td>\n",
       "      <td>-0.447357</td>\n",
       "    </tr>\n",
       "  </tbody>\n",
       "</table>\n",
       "</div>"
      ],
      "text/plain": [
       "                feature  score_logreg\n",
       "1               Schools      0.058646\n",
       "3         Annual Salary     -0.026421\n",
       "2           Job Density     -0.214256\n",
       "4  Bars and Restaurants     -0.228347\n",
       "0           Crime Rates     -0.447357"
      ]
     },
     "execution_count": 50,
     "metadata": {},
     "output_type": "execute_result"
    }
   ],
   "source": [
    "# Logistic Regression\n",
    "logreg = LogisticRegression()\n",
    "logreg.fit(train_fe, target_fe)\n",
    "coeff_logreg = pd.DataFrame(train_fe.columns.delete(0))\n",
    "coeff_logreg.columns = ['feature']\n",
    "coeff_logreg[\"score_logreg\"] = pd.Series(logreg.coef_[0])\n",
    "coeff_logreg.sort_values(by='score_logreg', ascending=False)"
   ]
  },
  {
   "cell_type": "code",
   "execution_count": 51,
   "metadata": {},
   "outputs": [],
   "source": [
    "# the level of importance of features is not associated with the sign\n",
    "# create a dataframe to save our outcome in one column named 'score_logreg'.\n",
    "coeff_logreg[\"score_logreg\"] = coeff_logreg[\"score_logreg\"].abs()\n",
    "feature_score = pd.merge(feature_score, coeff_logreg, on='feature')"
   ]
  },
  {
   "cell_type": "markdown",
   "metadata": {},
   "source": [
    "Lastly, we run a linear regression, using 'preprocessing.MinMaxScaler().fit_transform' to transform the variables’ scale with different weights to (0,1)."
   ]
  },
  {
   "cell_type": "code",
   "execution_count": 52,
   "metadata": {},
   "outputs": [
    {
     "data": {
      "text/plain": [
       "LinearRegression()"
      ]
     },
     "execution_count": 52,
     "metadata": {},
     "output_type": "execute_result"
    },
    {
     "data": {
      "text/html": [
       "<div>\n",
       "<style scoped>\n",
       "    .dataframe tbody tr th:only-of-type {\n",
       "        vertical-align: middle;\n",
       "    }\n",
       "\n",
       "    .dataframe tbody tr th {\n",
       "        vertical-align: top;\n",
       "    }\n",
       "\n",
       "    .dataframe thead th {\n",
       "        text-align: right;\n",
       "    }\n",
       "</style>\n",
       "<table border=\"1\" class=\"dataframe\">\n",
       "  <thead>\n",
       "    <tr style=\"text-align: right;\">\n",
       "      <th></th>\n",
       "      <th>feature</th>\n",
       "      <th>score_linreg</th>\n",
       "    </tr>\n",
       "  </thead>\n",
       "  <tbody>\n",
       "    <tr>\n",
       "      <th>4</th>\n",
       "      <td>Bars and Restaurants</td>\n",
       "      <td>1.013117e+06</td>\n",
       "    </tr>\n",
       "    <tr>\n",
       "      <th>1</th>\n",
       "      <td>Schools</td>\n",
       "      <td>6.123616e+05</td>\n",
       "    </tr>\n",
       "    <tr>\n",
       "      <th>0</th>\n",
       "      <td>Crime Rates</td>\n",
       "      <td>2.319551e+05</td>\n",
       "    </tr>\n",
       "    <tr>\n",
       "      <th>2</th>\n",
       "      <td>Job Density</td>\n",
       "      <td>-4.870303e+04</td>\n",
       "    </tr>\n",
       "    <tr>\n",
       "      <th>3</th>\n",
       "      <td>Annual Salary</td>\n",
       "      <td>-5.571588e+05</td>\n",
       "    </tr>\n",
       "  </tbody>\n",
       "</table>\n",
       "</div>"
      ],
      "text/plain": [
       "                feature  score_linreg\n",
       "4  Bars and Restaurants  1.013117e+06\n",
       "1               Schools  6.123616e+05\n",
       "0           Crime Rates  2.319551e+05\n",
       "2           Job Density -4.870303e+04\n",
       "3         Annual Salary -5.571588e+05"
      ]
     },
     "execution_count": 52,
     "metadata": {},
     "output_type": "execute_result"
    }
   ],
   "source": [
    "# Linear Regression\n",
    "linreg = LinearRegression()\n",
    "linreg.fit(train_fe, target_fe) #fit the regression model\n",
    "coeff_linreg = pd.DataFrame(train_fe.columns.delete(0))\n",
    "coeff_linreg.columns = ['feature'] # change the column name\n",
    "coeff_linreg[\"score_linreg\"] = pd.Series(linreg.coef_)\n",
    "coeff_linreg.sort_values(by='score_linreg', ascending=False)"
   ]
  },
  {
   "cell_type": "code",
   "execution_count": 53,
   "metadata": {},
   "outputs": [
    {
     "data": {
      "text/html": [
       "<div>\n",
       "<style scoped>\n",
       "    .dataframe tbody tr th:only-of-type {\n",
       "        vertical-align: middle;\n",
       "    }\n",
       "\n",
       "    .dataframe tbody tr th {\n",
       "        vertical-align: top;\n",
       "    }\n",
       "\n",
       "    .dataframe thead th {\n",
       "        text-align: right;\n",
       "    }\n",
       "</style>\n",
       "<table border=\"1\" class=\"dataframe\">\n",
       "  <thead>\n",
       "    <tr style=\"text-align: right;\">\n",
       "      <th></th>\n",
       "      <th>score_lgb</th>\n",
       "      <th>score_xgb</th>\n",
       "      <th>score_logreg</th>\n",
       "      <th>score_linreg</th>\n",
       "    </tr>\n",
       "    <tr>\n",
       "      <th>feature</th>\n",
       "      <th></th>\n",
       "      <th></th>\n",
       "      <th></th>\n",
       "      <th></th>\n",
       "    </tr>\n",
       "  </thead>\n",
       "  <tbody>\n",
       "    <tr>\n",
       "      <th>Crime Rates</th>\n",
       "      <td>2450</td>\n",
       "      <td>325</td>\n",
       "      <td>0.447357</td>\n",
       "      <td>2.319551e+05</td>\n",
       "    </tr>\n",
       "    <tr>\n",
       "      <th>Schools</th>\n",
       "      <td>2288</td>\n",
       "      <td>249</td>\n",
       "      <td>0.058646</td>\n",
       "      <td>6.123616e+05</td>\n",
       "    </tr>\n",
       "    <tr>\n",
       "      <th>Job Density</th>\n",
       "      <td>2451</td>\n",
       "      <td>284</td>\n",
       "      <td>0.214256</td>\n",
       "      <td>4.870303e+04</td>\n",
       "    </tr>\n",
       "    <tr>\n",
       "      <th>Annual Salary</th>\n",
       "      <td>2916</td>\n",
       "      <td>371</td>\n",
       "      <td>0.026421</td>\n",
       "      <td>5.571588e+05</td>\n",
       "    </tr>\n",
       "    <tr>\n",
       "      <th>Bars and Restaurants</th>\n",
       "      <td>2291</td>\n",
       "      <td>301</td>\n",
       "      <td>0.228347</td>\n",
       "      <td>1.013117e+06</td>\n",
       "    </tr>\n",
       "  </tbody>\n",
       "</table>\n",
       "</div>"
      ],
      "text/plain": [
       "                      score_lgb  score_xgb  score_logreg  score_linreg\n",
       "feature                                                               \n",
       "Crime Rates                2450        325      0.447357  2.319551e+05\n",
       "Schools                    2288        249      0.058646  6.123616e+05\n",
       "Job Density                2451        284      0.214256  4.870303e+04\n",
       "Annual Salary              2916        371      0.026421  5.571588e+05\n",
       "Bars and Restaurants       2291        301      0.228347  1.013117e+06"
      ]
     },
     "execution_count": 53,
     "metadata": {},
     "output_type": "execute_result"
    }
   ],
   "source": [
    "# To compare the different models, we merge the outcomes row by row.\n",
    "# The level of importance of features is not associated with the sign\n",
    "# Create a dataframe to save our outcome in one column named 'score_linreg'.\n",
    "coeff_linreg[\"score_linreg\"] = coeff_linreg[\"score_linreg\"].abs()\n",
    "\n",
    "# merge those 4 columns to a new dataframe named feature_score\n",
    "feature_score = pd.merge(feature_score, coeff_linreg, on='feature')\n",
    "feature_score = feature_score.fillna(0)\n",
    "feature_score = feature_score.set_index('feature')\n",
    "feature_score"
   ]
  },
  {
   "cell_type": "code",
   "execution_count": 54,
   "metadata": {},
   "outputs": [
    {
     "data": {
      "text/plain": [
       "<matplotlib.axes._subplots.AxesSubplot at 0x7f058ab9aa30>"
      ]
     },
     "execution_count": 54,
     "metadata": {},
     "output_type": "execute_result"
    },
    {
     "data": {
      "image/png": "[encoded data removed]",
      "text/plain": [
       "<Figure size 1440x720 with 1 Axes>"
      ]
     },
     "metadata": {
      "needs_background": "light"
     },
     "output_type": "display_data"
    }
   ],
   "source": [
    "\n",
    "# use matplotlib to plot their importance variable by variable in bar chat.\n",
    "feature_score = pd.DataFrame(\n",
    "    preprocessing.MinMaxScaler().fit_transform(feature_score),\n",
    "    columns=feature_score.columns,\n",
    "    index=feature_score.index\n",
    ")\n",
    "\n",
    "# Create mean column\n",
    "feature_score['mean'] = feature_score.mean(axis=1)\n",
    "\n",
    "# Plot the feature importances\n",
    "feature_score.sort_values('mean', ascending=False).plot(kind='bar', figsize=(20, 10))"
   ]
  },
  {
   "cell_type": "code",
   "execution_count": 55,
   "metadata": {},
   "outputs": [
    {
     "data": {
      "text/html": [
       "<div>\n",
       "<style scoped>\n",
       "    .dataframe tbody tr th:only-of-type {\n",
       "        vertical-align: middle;\n",
       "    }\n",
       "\n",
       "    .dataframe tbody tr th {\n",
       "        vertical-align: top;\n",
       "    }\n",
       "\n",
       "    .dataframe thead th {\n",
       "        text-align: right;\n",
       "    }\n",
       "</style>\n",
       "<table border=\"1\" class=\"dataframe\">\n",
       "  <thead>\n",
       "    <tr style=\"text-align: right;\">\n",
       "      <th></th>\n",
       "      <th>score_lgb</th>\n",
       "      <th>score_xgb</th>\n",
       "      <th>score_logreg</th>\n",
       "      <th>score_linreg</th>\n",
       "      <th>mean</th>\n",
       "    </tr>\n",
       "    <tr>\n",
       "      <th>feature</th>\n",
       "      <th></th>\n",
       "      <th></th>\n",
       "      <th></th>\n",
       "      <th></th>\n",
       "      <th></th>\n",
       "    </tr>\n",
       "  </thead>\n",
       "  <tbody>\n",
       "    <tr>\n",
       "      <th>Annual Salary</th>\n",
       "      <td>1.000000</td>\n",
       "      <td>1.000000</td>\n",
       "      <td>0.000000</td>\n",
       "      <td>0.527217</td>\n",
       "      <td>0.631804</td>\n",
       "    </tr>\n",
       "    <tr>\n",
       "      <th>Crime Rates</th>\n",
       "      <td>0.257962</td>\n",
       "      <td>0.622951</td>\n",
       "      <td>1.000000</td>\n",
       "      <td>0.190014</td>\n",
       "      <td>0.517732</td>\n",
       "    </tr>\n",
       "    <tr>\n",
       "      <th>Bars and Restaurants</th>\n",
       "      <td>0.004777</td>\n",
       "      <td>0.426230</td>\n",
       "      <td>0.479708</td>\n",
       "      <td>1.000000</td>\n",
       "      <td>0.477679</td>\n",
       "    </tr>\n",
       "    <tr>\n",
       "      <th>Job Density</th>\n",
       "      <td>0.259554</td>\n",
       "      <td>0.286885</td>\n",
       "      <td>0.446233</td>\n",
       "      <td>0.000000</td>\n",
       "      <td>0.248168</td>\n",
       "    </tr>\n",
       "    <tr>\n",
       "      <th>Schools</th>\n",
       "      <td>0.000000</td>\n",
       "      <td>0.000000</td>\n",
       "      <td>0.076556</td>\n",
       "      <td>0.584457</td>\n",
       "      <td>0.165253</td>\n",
       "    </tr>\n",
       "  </tbody>\n",
       "</table>\n",
       "</div>"
      ],
      "text/plain": [
       "                      score_lgb  score_xgb  score_logreg  score_linreg  \\\n",
       "feature                                                                  \n",
       "Annual Salary          1.000000   1.000000      0.000000      0.527217   \n",
       "Crime Rates            0.257962   0.622951      1.000000      0.190014   \n",
       "Bars and Restaurants   0.004777   0.426230      0.479708      1.000000   \n",
       "Job Density            0.259554   0.286885      0.446233      0.000000   \n",
       "Schools                0.000000   0.000000      0.076556      0.584457   \n",
       "\n",
       "                          mean  \n",
       "feature                         \n",
       "Annual Salary         0.631804  \n",
       "Crime Rates           0.517732  \n",
       "Bars and Restaurants  0.477679  \n",
       "Job Density           0.248168  \n",
       "Schools               0.165253  "
      ]
     },
     "execution_count": 55,
     "metadata": {},
     "output_type": "execute_result"
    }
   ],
   "source": [
    "# sort them by the means of importance\n",
    "feature_score.sort_values('mean', ascending=False)"
   ]
  },
  {
   "cell_type": "markdown",
   "metadata": {},
   "source": [
    " The illustration above shows the impact of each variable on House Price ranked by 'mean'. Annual salary consistently ranks as greatest influencer of house prices, while number of Bars or Restaurants hold the weakest influence. "
   ]
  },
  {
   "cell_type": "markdown",
   "metadata": {},
   "source": [
    "### Train and Test our Model###"
   ]
  },
  {
   "cell_type": "markdown",
   "metadata": {},
   "source": [
    "Next, we use three models for training and testing: \n",
    "1. Random Forest: Training the model and checking the accuracy ratee.\n",
    "2. XGboost: Training our dataset with XGBoost model, returning its score and rmse. \n",
    "3. LightGBM: Lastly, we importing LightGBM model and report its outcome."
   ]
  },
  {
   "cell_type": "code",
   "execution_count": 56,
   "metadata": {},
   "outputs": [],
   "source": [
    "target_name = 'House Price'\n",
    "train_target0 = Final_dataset_df[target_name]\n",
    "train0 = Final_dataset_df.drop([target_name], axis=1)"
   ]
  },
  {
   "cell_type": "code",
   "execution_count": 57,
   "metadata": {},
   "outputs": [],
   "source": [
    "# Synthesis test0 from train0\n",
    "train0, test0, train_target0, test_target0 = train_test_split(\n",
    "    train0, train_target0, test_size=0.2, random_state=0)"
   ]
  },
  {
   "cell_type": "code",
   "execution_count": 58,
   "metadata": {},
   "outputs": [],
   "source": [
    "# For boosting model\n",
    "train0b = train0\n",
    "train_target0b = train_target0\n",
    "# Synthesis valid as test for selection models\n",
    "trainb, testb, targetb, target_testb = train_test_split(train0b, train_target0b, test_size=0.3, random_state=0)"
   ]
  },
  {
   "cell_type": "code",
   "execution_count": 59,
   "metadata": {},
   "outputs": [],
   "source": [
    "#For models from Sklearn, data normalization and standardization\n",
    "scaler = StandardScaler()\n",
    "train0 = pd.DataFrame(scaler.fit_transform(train0), columns = train0.columns)"
   ]
  },
  {
   "cell_type": "code",
   "execution_count": 60,
   "metadata": {},
   "outputs": [],
   "source": [
    "# Synthesis test0 from train0\n",
    "train0, test0, train_target0, test_target0 = train_test_split(\n",
    "    train0, train_target0, test_size=0.2, random_state=0)"
   ]
  },
  {
   "cell_type": "code",
   "execution_count": 61,
   "metadata": {},
   "outputs": [],
   "source": [
    "# For boosting model\n",
    "train0b = train0\n",
    "train_target0b = train_target0\n",
    "# Synthesis valid as test for selection models\n",
    "trainb, testb, targetb, target_testb = train_test_split(train0b, train_target0b, test_size=0.3, random_state=0)"
   ]
  },
  {
   "cell_type": "code",
   "execution_count": 62,
   "metadata": {},
   "outputs": [],
   "source": [
    "#For models from Sklearn, data normalization and standardization\n",
    "scaler = StandardScaler()\n",
    "train0 = pd.DataFrame(scaler.fit_transform(train0), columns = train0.columns)"
   ]
  },
  {
   "cell_type": "code",
   "execution_count": 63,
   "metadata": {},
   "outputs": [],
   "source": [
    "# Synthesis valid as test for selection models\n",
    "train, test, target, target_test = train_test_split(train0, train_target0, test_size=0.3, random_state=0)"
   ]
  },
  {
   "cell_type": "markdown",
   "metadata": {},
   "source": [
    "To calculate the r2 and rmse of each model, we must define new functions:"
   ]
  },
  {
   "cell_type": "code",
   "execution_count": 64,
   "metadata": {},
   "outputs": [],
   "source": [
    "# create four empty list to store the outcome.\n",
    "acc_train_r2 = []\n",
    "acc_test_r2 = []\n",
    "acc_train_rmse = []\n",
    "acc_test_rmse = []"
   ]
  },
  {
   "cell_type": "code",
   "execution_count": 65,
   "metadata": {},
   "outputs": [],
   "source": [
    "# RMSE between predicted y_pred and measured y_meas values\n",
    "def acc_rmse(y_meas, y_pred):\n",
    "    return (mean_squared_error(y_meas, y_pred))**0.5"
   ]
  },
  {
   "cell_type": "code",
   "execution_count": 66,
   "metadata": {},
   "outputs": [],
   "source": [
    "# Calculation of accuracy of boosting model by different metrics\n",
    "def acc_boosting_model(num,model,train,test,num_iteration=0):\n",
    "    global acc_train_r2, acc_test_r2,acc_train_rmse, acc_test_rmse\n",
    "    \n",
    "    if num_iteration > 0:\n",
    "        ytrain = model.predict(train, num_iteration = num_iteration)  \n",
    "        ytest = model.predict(test, num_iteration = num_iteration)\n",
    "    else:\n",
    "        ytrain = model.predict(train)  \n",
    "        ytest = model.predict(test)\n",
    "\n",
    "    print('target = ', targetb[:5].values)\n",
    "    print('ytrain = ', ytrain[:5])\n",
    "\n",
    "    acc_train_r2_num = round(r2_score(targetb, ytrain) * 100, 2)\n",
    "    print('acc(r2_score) for train =', acc_train_r2_num)   \n",
    "    acc_train_r2.insert(num, acc_train_r2_num)\n",
    "\n",
    "    acc_train_rmse_num = round(acc_rmse(targetb, ytrain) * 100, 2)\n",
    "    print('acc(rmse) for train =', acc_train_rmse_num)   \n",
    "    acc_train_rmse.insert(num, acc_train_rmse_num)\n",
    "\n",
    "    print('target_test =', target_testb[:5].values)\n",
    "    print('ytest =', ytest[:5])\n",
    "    \n",
    "    acc_test_r2_num = round(r2_score(target_testb, ytest) * 100, 2)\n",
    "    print('acc(r2_score) for test =', acc_test_r2_num)\n",
    "    acc_test_r2.insert(num, acc_test_r2_num)\n",
    "    \n",
    "    acc_test_rmse_num = round(acc_rmse(target_testb, ytest) * 100, 2)\n",
    "    print('acc(rmse) for test =', acc_test_rmse_num)\n",
    "    acc_test_rmse.insert(num, acc_test_rmse_num)"
   ]
  },
  {
   "cell_type": "code",
   "execution_count": 67,
   "metadata": {},
   "outputs": [],
   "source": [
    "# Calculation of accuracy of model from Sklearn by different metrics\n",
    "def acc_model(num,model,train,test):\n",
    "    global acc_train_r2, acc_test_r2,acc_train_rmse, acc_test_rmse\n",
    "    \n",
    "    ytrain = model.predict(train)  \n",
    "    ytest = model.predict(test)\n",
    "\n",
    "    print('target = ', target[:5].values)\n",
    "    print('ytrain = ', ytrain[:5])\n",
    "\n",
    "    acc_train_r2_num = round(r2_score(target, ytrain) * 100, 2)\n",
    "    print('acc(r2_score) for train =', acc_train_r2_num)   \n",
    "    acc_train_r2.insert(num, acc_train_r2_num)\n",
    "\n",
    "    acc_train_rmse_num = round(acc_rmse(target, ytrain) * 100, 2)\n",
    "    print('acc(rmse) for train =', acc_train_rmse_num)   \n",
    "    acc_train_rmse.insert(num, acc_train_rmse_num)\n",
    "\n",
    "    print('target_test =', target_test[:5].values)\n",
    "    print('ytest =', ytest[:5])\n",
    "    \n",
    "    acc_test_r2_num = round(r2_score(target_test, ytest) * 100, 2)\n",
    "    print('acc(r2_score) for test =', acc_test_r2_num)\n",
    "    acc_test_r2.insert(num, acc_test_r2_num)\n",
    "    \n",
    "    acc_test_rmse_num = round(acc_rmse(target_test, ytest) * 100, 2)\n",
    "    print('acc(rmse) for test =', acc_test_rmse_num)\n",
    "    acc_test_rmse.insert(num, acc_test_rmse_num)"
   ]
  },
  {
   "cell_type": "markdown",
   "metadata": {},
   "source": [
    "Now, we use random forest to train the model and check its accuracy rate."
   ]
  },
  {
   "cell_type": "code",
   "execution_count": 68,
   "metadata": {},
   "outputs": [
    {
     "data": {
      "text/plain": [
       "RandomForestRegressor()"
      ]
     },
     "execution_count": 68,
     "metadata": {},
     "output_type": "execute_result"
    },
    {
     "name": "stdout",
     "output_type": "stream",
     "text": [
      "target =  [435807 386200 506799 484592 260476]\n",
      "ytrain =  [404287.98 416220.69 482675.55 468705.57 269181.67]\n",
      "acc(r2_score) for train = 96.22\n",
      "acc(rmse) for train = 3630269.8\n",
      "target_test = [339685 760833 964643 995543 570008]\n",
      "ytest = [281733.34 599055.65 807129.19 848916.73 773846.1 ]\n",
      "acc(r2_score) for test = 68.77\n",
      "acc(rmse) for test = 12350697.68\n"
     ]
    }
   ],
   "source": [
    "random_forest = RandomForestRegressor() # create a randomforest function\n",
    "random_forest.fit(train, target) # train the model\n",
    "acc_model(1,random_forest,train,test) # return the outcome by the function we defined"
   ]
  },
  {
   "cell_type": "markdown",
   "metadata": {},
   "source": [
    "XGboost: Next, we train our dataset with XGBoost model, returning its score and rmse."
   ]
  },
  {
   "cell_type": "code",
   "execution_count": 69,
   "metadata": {},
   "outputs": [
    {
     "name": "stdout",
     "output_type": "stream",
     "text": [
      "Best score: 0.634\n",
      "Best parameters set: {'learning_rate': 0.1, 'max_depth': 5, 'n_estimators': 60, 'reg_lambda': 0.5}\n",
      "target =  [435807 386200 506799 484592 260476]\n",
      "ytrain =  [426647.7  391055.7  499246.7  478518.25 260945.62]\n",
      "acc(r2_score) for train = 99.8\n",
      "acc(rmse) for train = 840657.73\n",
      "target_test = [339685 760833 964643 995543 570008]\n",
      "ytest = [294219.62 642578.5  793559.44 794539.06 691809.4 ]\n",
      "acc(r2_score) for test = 67.81\n",
      "acc(rmse) for test = 12539875.87\n"
     ]
    }
   ],
   "source": [
    "xgb_clf = xgb.XGBRegressor(objective = 'reg:squarederror')  # set our regression type as squarderror\n",
    "parameters = {'n_estimators': [60, 100, 120, 140], \n",
    "              'learning_rate': [0.01, 0.1],\n",
    "              'max_depth': [5, 7],\n",
    "              'reg_lambda': [0.5]}\n",
    "xgb_reg = GridSearchCV(estimator=xgb_clf, param_grid=parameters, cv=5, n_jobs=-1).fit(trainb, targetb) # train the model\n",
    "print(\"Best score: %0.3f\" % xgb_reg.best_score_)\n",
    "print(\"Best parameters set:\", xgb_reg.best_params_)\n",
    "acc_boosting_model(2,xgb_reg,trainb,testb)# print the outcome with the function that we have defined"
   ]
  },
  {
   "cell_type": "code",
   "execution_count": 70,
   "metadata": {},
   "outputs": [],
   "source": [
    "Xtrain, Xval, Ztrain, Zval = train_test_split(trainb, targetb, test_size=0.2, random_state=0)\n",
    "train_set = lgb.Dataset(Xtrain, Ztrain, silent=False)\n",
    "valid_set = lgb.Dataset(Xval, Zval, silent=False)"
   ]
  },
  {
   "cell_type": "code",
   "execution_count": 71,
   "metadata": {},
   "outputs": [],
   "source": [
    "%%capture \n",
    "# hide the process of running because there will be too wordy and lengthy if we show it.\n",
    "# adjusting the parameter of lgb to make it more proper\n",
    "params = {\n",
    "        'boosting_type':'gbdt',\n",
    "        'objective': 'regression',\n",
    "        'num_leaves': 31,\n",
    "        'learning_rate': 0.01,\n",
    "        'max_depth': -1,\n",
    "        'subsample': 0.8,\n",
    "        'bagging_fraction' : 1,\n",
    "        'max_bin' : 5000 ,\n",
    "        'bagging_freq': 20,\n",
    "        'colsample_bytree': 0.6,\n",
    "        'metric': 'rmse',\n",
    "        'min_split_gain': 0.5,\n",
    "        'min_child_weight': 1,\n",
    "        'min_child_samples': 10,\n",
    "        'scale_pos_weight':1,\n",
    "        'zero_as_missing': False,\n",
    "        'seed':0,        \n",
    "    }\n",
    "modelL = lgb.train(params, train_set = train_set, num_boost_round=10000,\n",
    "                   early_stopping_rounds=50,verbose_eval=10, valid_sets=valid_set)\n",
    "# train the lightgbm model again for better result"
   ]
  },
  {
   "cell_type": "code",
   "execution_count": 72,
   "metadata": {},
   "outputs": [
    {
     "name": "stdout",
     "output_type": "stream",
     "text": [
      "target =  [435807 386200 506799 484592 260476]\n",
      "ytrain =  [385530.92304794 398470.15594588 476353.19240978 447017.2865607\n",
      " 320626.91197774]\n",
      "acc(r2_score) for train = 74.22\n",
      "acc(rmse) for train = 9477831.12\n",
      "target_test = [339685 760833 964643 995543 570008]\n",
      "ytest = [300064.63911308 500472.0031412  734720.37246198 735886.96038568\n",
      " 702907.46033295]\n",
      "acc(r2_score) for test = 60.51\n",
      "acc(rmse) for test = 13889036.42\n"
     ]
    }
   ],
   "source": [
    "acc_boosting_model(3,modelL,trainb,testb,modelL.best_iteration) # return the score and rmse."
   ]
  },
  {
   "cell_type": "code",
   "execution_count": 73,
   "metadata": {},
   "outputs": [],
   "source": [
    "# generate a dataframe that we can compare the scroe and rmse\n",
    "models = pd.DataFrame({\n",
    "    'Model': ['Random Forest', 'XGB', 'LGBM'],\n",
    "    'r2_train': acc_train_r2,\n",
    "    'r2_test': acc_test_r2,\n",
    "    'rmse_train': acc_train_rmse,\n",
    "    'rmse_test': acc_test_rmse\n",
    "                     })"
   ]
  },
  {
   "cell_type": "code",
   "execution_count": 74,
   "metadata": {
    "scrolled": true
   },
   "outputs": [
    {
     "data": {
      "text/html": [
       "<div>\n",
       "<style scoped>\n",
       "    .dataframe tbody tr th:only-of-type {\n",
       "        vertical-align: middle;\n",
       "    }\n",
       "\n",
       "    .dataframe tbody tr th {\n",
       "        vertical-align: top;\n",
       "    }\n",
       "\n",
       "    .dataframe thead th {\n",
       "        text-align: right;\n",
       "    }\n",
       "</style>\n",
       "<table border=\"1\" class=\"dataframe\">\n",
       "  <thead>\n",
       "    <tr style=\"text-align: right;\">\n",
       "      <th></th>\n",
       "      <th>Model</th>\n",
       "      <th>r2_train</th>\n",
       "      <th>r2_test</th>\n",
       "      <th>rmse_train</th>\n",
       "      <th>rmse_test</th>\n",
       "    </tr>\n",
       "  </thead>\n",
       "  <tbody>\n",
       "    <tr>\n",
       "      <th>0</th>\n",
       "      <td>Random Forest</td>\n",
       "      <td>96.22</td>\n",
       "      <td>68.77</td>\n",
       "      <td>3,630,269.80</td>\n",
       "      <td>12,350,697.68</td>\n",
       "    </tr>\n",
       "    <tr>\n",
       "      <th>1</th>\n",
       "      <td>XGB</td>\n",
       "      <td>99.80</td>\n",
       "      <td>67.81</td>\n",
       "      <td>840,657.73</td>\n",
       "      <td>12,539,875.87</td>\n",
       "    </tr>\n",
       "    <tr>\n",
       "      <th>2</th>\n",
       "      <td>LGBM</td>\n",
       "      <td>74.22</td>\n",
       "      <td>60.51</td>\n",
       "      <td>9,477,831.12</td>\n",
       "      <td>13,889,036.42</td>\n",
       "    </tr>\n",
       "  </tbody>\n",
       "</table>\n",
       "</div>"
      ],
      "text/plain": [
       "           Model  r2_train  r2_test   rmse_train     rmse_test\n",
       "0  Random Forest     96.22    68.77 3,630,269.80 12,350,697.68\n",
       "1            XGB     99.80    67.81   840,657.73 12,539,875.87\n",
       "2           LGBM     74.22    60.51 9,477,831.12 13,889,036.42"
      ]
     },
     "execution_count": 74,
     "metadata": {},
     "output_type": "execute_result"
    }
   ],
   "source": [
    "pd.options.display.float_format = '{:,.2f}'.format\n",
    "models"
   ]
  },
  {
   "cell_type": "code",
   "execution_count": 75,
   "metadata": {},
   "outputs": [],
   "source": [
    "testn = pd.DataFrame(scaler.transform(test0), columns = test0.columns)"
   ]
  },
  {
   "cell_type": "code",
   "execution_count": 76,
   "metadata": {
    "scrolled": true
   },
   "outputs": [
    {
     "data": {
      "text/html": [
       "<div>\n",
       "<style scoped>\n",
       "    .dataframe tbody tr th:only-of-type {\n",
       "        vertical-align: middle;\n",
       "    }\n",
       "\n",
       "    .dataframe tbody tr th {\n",
       "        vertical-align: top;\n",
       "    }\n",
       "\n",
       "    .dataframe thead th {\n",
       "        text-align: right;\n",
       "    }\n",
       "</style>\n",
       "<table border=\"1\" class=\"dataframe\">\n",
       "  <thead>\n",
       "    <tr style=\"text-align: right;\">\n",
       "      <th></th>\n",
       "      <th>Real_price</th>\n",
       "      <th>predicted_prices</th>\n",
       "      <th>difference</th>\n",
       "    </tr>\n",
       "  </thead>\n",
       "  <tbody>\n",
       "    <tr>\n",
       "      <th>0</th>\n",
       "      <td>577055</td>\n",
       "      <td>635447</td>\n",
       "      <td>58392</td>\n",
       "    </tr>\n",
       "    <tr>\n",
       "      <th>1</th>\n",
       "      <td>696926</td>\n",
       "      <td>731601</td>\n",
       "      <td>34675</td>\n",
       "    </tr>\n",
       "    <tr>\n",
       "      <th>2</th>\n",
       "      <td>314934</td>\n",
       "      <td>351254</td>\n",
       "      <td>36320</td>\n",
       "    </tr>\n",
       "    <tr>\n",
       "      <th>3</th>\n",
       "      <td>331124</td>\n",
       "      <td>382673</td>\n",
       "      <td>51549</td>\n",
       "    </tr>\n",
       "    <tr>\n",
       "      <th>4</th>\n",
       "      <td>787440</td>\n",
       "      <td>732357</td>\n",
       "      <td>55083</td>\n",
       "    </tr>\n",
       "    <tr>\n",
       "      <th>5</th>\n",
       "      <td>642137</td>\n",
       "      <td>587634</td>\n",
       "      <td>54503</td>\n",
       "    </tr>\n",
       "    <tr>\n",
       "      <th>6</th>\n",
       "      <td>315812</td>\n",
       "      <td>358908</td>\n",
       "      <td>43096</td>\n",
       "    </tr>\n",
       "    <tr>\n",
       "      <th>7</th>\n",
       "      <td>467867</td>\n",
       "      <td>488478</td>\n",
       "      <td>20611</td>\n",
       "    </tr>\n",
       "    <tr>\n",
       "      <th>8</th>\n",
       "      <td>424103</td>\n",
       "      <td>441490</td>\n",
       "      <td>17387</td>\n",
       "    </tr>\n",
       "    <tr>\n",
       "      <th>9</th>\n",
       "      <td>436116</td>\n",
       "      <td>378441</td>\n",
       "      <td>57675</td>\n",
       "    </tr>\n",
       "    <tr>\n",
       "      <th>10</th>\n",
       "      <td>362131</td>\n",
       "      <td>394518</td>\n",
       "      <td>32387</td>\n",
       "    </tr>\n",
       "    <tr>\n",
       "      <th>11</th>\n",
       "      <td>586166</td>\n",
       "      <td>548315</td>\n",
       "      <td>37851</td>\n",
       "    </tr>\n",
       "    <tr>\n",
       "      <th>12</th>\n",
       "      <td>362965</td>\n",
       "      <td>378845</td>\n",
       "      <td>15880</td>\n",
       "    </tr>\n",
       "    <tr>\n",
       "      <th>13</th>\n",
       "      <td>408604</td>\n",
       "      <td>342740</td>\n",
       "      <td>65864</td>\n",
       "    </tr>\n",
       "    <tr>\n",
       "      <th>14</th>\n",
       "      <td>261965</td>\n",
       "      <td>290757</td>\n",
       "      <td>28792</td>\n",
       "    </tr>\n",
       "    <tr>\n",
       "      <th>15</th>\n",
       "      <td>314112</td>\n",
       "      <td>318924</td>\n",
       "      <td>4812</td>\n",
       "    </tr>\n",
       "    <tr>\n",
       "      <th>16</th>\n",
       "      <td>760253</td>\n",
       "      <td>734720</td>\n",
       "      <td>25533</td>\n",
       "    </tr>\n",
       "    <tr>\n",
       "      <th>17</th>\n",
       "      <td>240572</td>\n",
       "      <td>296134</td>\n",
       "      <td>55562</td>\n",
       "    </tr>\n",
       "    <tr>\n",
       "      <th>18</th>\n",
       "      <td>922702</td>\n",
       "      <td>734720</td>\n",
       "      <td>187982</td>\n",
       "    </tr>\n",
       "    <tr>\n",
       "      <th>19</th>\n",
       "      <td>347956</td>\n",
       "      <td>398372</td>\n",
       "      <td>50416</td>\n",
       "    </tr>\n",
       "  </tbody>\n",
       "</table>\n",
       "</div>"
      ],
      "text/plain": [
       "    Real_price  predicted_prices  difference\n",
       "0       577055            635447       58392\n",
       "1       696926            731601       34675\n",
       "2       314934            351254       36320\n",
       "3       331124            382673       51549\n",
       "4       787440            732357       55083\n",
       "5       642137            587634       54503\n",
       "6       315812            358908       43096\n",
       "7       467867            488478       20611\n",
       "8       424103            441490       17387\n",
       "9       436116            378441       57675\n",
       "10      362131            394518       32387\n",
       "11      586166            548315       37851\n",
       "12      362965            378845       15880\n",
       "13      408604            342740       65864\n",
       "14      261965            290757       28792\n",
       "15      314112            318924        4812\n",
       "16      760253            734720       25533\n",
       "17      240572            296134       55562\n",
       "18      922702            734720      187982\n",
       "19      347956            398372       50416"
      ]
     },
     "execution_count": 76,
     "metadata": {},
     "output_type": "execute_result"
    }
   ],
   "source": [
    "lgb_predict = modelL.predict(test0)# predict the house price in the test dataset\n",
    "final_df = test_target0.values # find the target value\n",
    "final_df = pd.DataFrame(final_df,columns=['Real_price'])\n",
    "final_df['predicted_prices'] = lgb_predict.astype(int) # change it type to 'int'\n",
    "final_df['difference'] = abs(final_df['Real_price'] - final_df['predicted_prices']).astype(int) # change it type to 'int'\n",
    "final_df.head(20)# show prediction of the first 10 rows."
   ]
  },
  {
   "cell_type": "markdown",
   "metadata": {},
   "source": [
    "As LGBM has the highest test score, 85.46,  we select LGBM as our prediction model; although it is not very accurate."
   ]
  },
  {
   "cell_type": "markdown",
   "metadata": {},
   "source": [
    "# 5. Limitations"
   ]
  },
  {
   "cell_type": "markdown",
   "metadata": {},
   "source": [
    "<p style='text-align: justify;'>Our dataset only covers 2011 to 2017, a longer historical time frame can generate more up-to-date results and better predictions. Also, the prediction of house price in the future should consider unforeseen events, such as financial crisis. </p>\n",
    "    \n",
    "<p style='text-align: justify;'>As for regression analyses, multicollinearity, shown by the correlation matrix, may bias results. Omitted variables that affect both house price and independent variables -- such as inflation, may further bias the result. Therefore, the regression analysis does not necessarily imply  casual inference between the factors and the house price. Further empirical research is necessary. The accuracy of machine learning analysis can be increased, if with more data points for training and testing.\n",
    "</p>"
   ]
  },
  {
   "cell_type": "markdown",
   "metadata": {},
   "source": [
    "# 6. Conclusion"
   ]
  },
  {
   "cell_type": "markdown",
   "metadata": {},
   "source": [
    "A finder gathering boroughs based on different traits has been developed to aid buyers in their search and to support the government in analysing the state of boroughs and highlighting developments over the years.\n",
    "\n",
    "Both the regressions and machine learning methods illustrate that average annual salary (in £1,000) is the most important factor affecting house prices. "
   ]
  }
 ],
 "metadata": {
  "kernelspec": {
   "display_name": "Python [conda env:Python3] *",
   "language": "python",
   "name": "conda-env-Python3-py"
  },
  "language_info": {
   "codemirror_mode": {
    "name": "ipython",
    "version": 3
   },
   "file_extension": ".py",
   "mimetype": "text/x-python",
   "name": "python",
   "nbconvert_exporter": "python",
   "pygments_lexer": "ipython3",
   "version": "3.8.3"
  }
 },
 "nbformat": 4,
 "nbformat_minor": 2
}
